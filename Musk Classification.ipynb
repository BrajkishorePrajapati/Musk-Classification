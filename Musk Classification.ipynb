{
  "nbformat": 4,
  "nbformat_minor": 0,
  "metadata": {
    "colab": {
      "name": "Copy of Musk Classification.ipynb",
      "provenance": [],
      "collapsed_sections": []
    },
    "kernelspec": {
      "name": "python3",
      "display_name": "Python 3"
    }
  },
  "cells": [
    {
      "cell_type": "markdown",
      "metadata": {
        "id": "rFgYaUvSBWNJ"
      },
      "source": [
        "# **Musk Classification**"
      ]
    },
    {
      "cell_type": "markdown",
      "metadata": {
        "id": "RYL_EwI2Bgia"
      },
      "source": [
        "## **Overview:**\n",
        "1. Introduction to Problem Statement.\n",
        "2. Importing required libraries and dataset\n",
        "3. Varaible Identification and typecasting if necessary.\n",
        "4. Feature Engineering and Preprocessing\n",
        "        4.1 Handling categorical features.\n",
        "        4.2 Normalizing the dataset\n",
        "        4.3 .Splitting the dataset into train and test.\n",
        "5. Model Building\n",
        "6. Model Prediction on test dataset.\n",
        "7. Model Evaluation.\n",
        "8. Visualization : Training and validation Graphs\n"
      ]
    },
    {
      "cell_type": "markdown",
      "metadata": {
        "id": "_j6LsyhABjui"
      },
      "source": [
        "## **1. Introduction to Problem Statement**\n",
        "\n",
        "The given dataset contains details about organic chemical compounds including their chemical features, isomeric conformation, names and the classes in which they are classified. The compounds are classified as either ‘Musk’ or ‘Non-Musk’ compounds. <br>\n",
        "Your task is to build a classification model on the given data using any Deep Learning approach that you deem appropriate viz. Multi-Layer Perceptron, CNN, RNN, etc. or you could also use transfer learning approaches through selection of appropriate pre-trained model. <br>\n",
        "* The data has to be split in a 80:20 ratio for training and validation datasets.\n",
        "* You can perform whatever preprocessing and post-processing operations on the data that may help you improve the performance of your model.\n",
        "* You are required to report the performance measures of the model viz. Accuracy( Training and Validation) and Loss(Training and Validation) graphs, F1 score, precision, recall, etc. along with a well detailed report of what models, pre-processing, post-processing approaches you have used and why you chose to use these approaches."
      ]
    },
    {
      "cell_type": "code",
      "metadata": {
        "colab": {
          "base_uri": "https://localhost:8080/"
        },
        "id": "X_PmVFYPCjBO",
        "outputId": "bba0c374-b1cc-49cd-bbcf-5a961b4c8e15"
      },
      "source": [
        "from google.colab import drive\n",
        "drive.mount('/content/gdrive')"
      ],
      "execution_count": 216,
      "outputs": [
        {
          "output_type": "stream",
          "text": [
            "Drive already mounted at /content/gdrive; to attempt to forcibly remount, call drive.mount(\"/content/gdrive\", force_remount=True).\n"
          ],
          "name": "stdout"
        }
      ]
    },
    {
      "cell_type": "markdown",
      "metadata": {
        "id": "QTqMAgnzCJPi"
      },
      "source": [
        "## **2. Importing required libraries and dataset**"
      ]
    },
    {
      "cell_type": "code",
      "metadata": {
        "colab": {
          "base_uri": "https://localhost:8080/",
          "height": 245
        },
        "id": "V-cDxOsQCR80",
        "outputId": "92d0440c-a238-49aa-c2a0-272523d1d158"
      },
      "source": [
        "import numpy as np\n",
        "import pandas as pd\n",
        "import matplotlib.pyplot as plt\n",
        "import seaborn as sns\n",
        "%matplotlib inline\n",
        "\n",
        "data = pd.read_csv('/content/gdrive/My Drive/Colab Notebooks/Projects/Credicxo Project/musk.csv')\n",
        "data.head()\n"
      ],
      "execution_count": 217,
      "outputs": [
        {
          "output_type": "execute_result",
          "data": {
            "text/html": [
              "<div>\n",
              "<style scoped>\n",
              "    .dataframe tbody tr th:only-of-type {\n",
              "        vertical-align: middle;\n",
              "    }\n",
              "\n",
              "    .dataframe tbody tr th {\n",
              "        vertical-align: top;\n",
              "    }\n",
              "\n",
              "    .dataframe thead th {\n",
              "        text-align: right;\n",
              "    }\n",
              "</style>\n",
              "<table border=\"1\" class=\"dataframe\">\n",
              "  <thead>\n",
              "    <tr style=\"text-align: right;\">\n",
              "      <th></th>\n",
              "      <th>ID</th>\n",
              "      <th>molecule_name</th>\n",
              "      <th>conformation_name</th>\n",
              "      <th>f1</th>\n",
              "      <th>f2</th>\n",
              "      <th>f3</th>\n",
              "      <th>f4</th>\n",
              "      <th>f5</th>\n",
              "      <th>f6</th>\n",
              "      <th>f7</th>\n",
              "      <th>f8</th>\n",
              "      <th>f9</th>\n",
              "      <th>f10</th>\n",
              "      <th>f11</th>\n",
              "      <th>f12</th>\n",
              "      <th>f13</th>\n",
              "      <th>f14</th>\n",
              "      <th>f15</th>\n",
              "      <th>f16</th>\n",
              "      <th>f17</th>\n",
              "      <th>f18</th>\n",
              "      <th>f19</th>\n",
              "      <th>f20</th>\n",
              "      <th>f21</th>\n",
              "      <th>f22</th>\n",
              "      <th>f23</th>\n",
              "      <th>f24</th>\n",
              "      <th>f25</th>\n",
              "      <th>f26</th>\n",
              "      <th>f27</th>\n",
              "      <th>f28</th>\n",
              "      <th>f29</th>\n",
              "      <th>f30</th>\n",
              "      <th>f31</th>\n",
              "      <th>f32</th>\n",
              "      <th>f33</th>\n",
              "      <th>f34</th>\n",
              "      <th>f35</th>\n",
              "      <th>f36</th>\n",
              "      <th>f37</th>\n",
              "      <th>...</th>\n",
              "      <th>f128</th>\n",
              "      <th>f129</th>\n",
              "      <th>f130</th>\n",
              "      <th>f131</th>\n",
              "      <th>f132</th>\n",
              "      <th>f133</th>\n",
              "      <th>f134</th>\n",
              "      <th>f135</th>\n",
              "      <th>f136</th>\n",
              "      <th>f137</th>\n",
              "      <th>f138</th>\n",
              "      <th>f139</th>\n",
              "      <th>f140</th>\n",
              "      <th>f141</th>\n",
              "      <th>f142</th>\n",
              "      <th>f143</th>\n",
              "      <th>f144</th>\n",
              "      <th>f145</th>\n",
              "      <th>f146</th>\n",
              "      <th>f147</th>\n",
              "      <th>f148</th>\n",
              "      <th>f149</th>\n",
              "      <th>f150</th>\n",
              "      <th>f151</th>\n",
              "      <th>f152</th>\n",
              "      <th>f153</th>\n",
              "      <th>f154</th>\n",
              "      <th>f155</th>\n",
              "      <th>f156</th>\n",
              "      <th>f157</th>\n",
              "      <th>f158</th>\n",
              "      <th>f159</th>\n",
              "      <th>f160</th>\n",
              "      <th>f161</th>\n",
              "      <th>f162</th>\n",
              "      <th>f163</th>\n",
              "      <th>f164</th>\n",
              "      <th>f165</th>\n",
              "      <th>f166</th>\n",
              "      <th>class</th>\n",
              "    </tr>\n",
              "  </thead>\n",
              "  <tbody>\n",
              "    <tr>\n",
              "      <th>0</th>\n",
              "      <td>1</td>\n",
              "      <td>MUSK-211</td>\n",
              "      <td>211_1+1</td>\n",
              "      <td>46</td>\n",
              "      <td>-108</td>\n",
              "      <td>-60</td>\n",
              "      <td>-69</td>\n",
              "      <td>-117</td>\n",
              "      <td>49</td>\n",
              "      <td>38</td>\n",
              "      <td>-161</td>\n",
              "      <td>-8</td>\n",
              "      <td>5</td>\n",
              "      <td>-323</td>\n",
              "      <td>-220</td>\n",
              "      <td>-113</td>\n",
              "      <td>-299</td>\n",
              "      <td>-283</td>\n",
              "      <td>-307</td>\n",
              "      <td>-31</td>\n",
              "      <td>-106</td>\n",
              "      <td>-227</td>\n",
              "      <td>-42</td>\n",
              "      <td>-59</td>\n",
              "      <td>-22</td>\n",
              "      <td>-67</td>\n",
              "      <td>189</td>\n",
              "      <td>81</td>\n",
              "      <td>17</td>\n",
              "      <td>-27</td>\n",
              "      <td>-89</td>\n",
              "      <td>-67</td>\n",
              "      <td>105</td>\n",
              "      <td>-116</td>\n",
              "      <td>124</td>\n",
              "      <td>-106</td>\n",
              "      <td>5</td>\n",
              "      <td>-120</td>\n",
              "      <td>63</td>\n",
              "      <td>-165</td>\n",
              "      <td>...</td>\n",
              "      <td>81</td>\n",
              "      <td>-114</td>\n",
              "      <td>-187</td>\n",
              "      <td>45</td>\n",
              "      <td>-118</td>\n",
              "      <td>-75</td>\n",
              "      <td>-182</td>\n",
              "      <td>-234</td>\n",
              "      <td>-19</td>\n",
              "      <td>12</td>\n",
              "      <td>-13</td>\n",
              "      <td>-41</td>\n",
              "      <td>-119</td>\n",
              "      <td>-149</td>\n",
              "      <td>70</td>\n",
              "      <td>17</td>\n",
              "      <td>-20</td>\n",
              "      <td>-177</td>\n",
              "      <td>-101</td>\n",
              "      <td>-116</td>\n",
              "      <td>-14</td>\n",
              "      <td>-50</td>\n",
              "      <td>24</td>\n",
              "      <td>-81</td>\n",
              "      <td>-125</td>\n",
              "      <td>-114</td>\n",
              "      <td>-44</td>\n",
              "      <td>128</td>\n",
              "      <td>3</td>\n",
              "      <td>-244</td>\n",
              "      <td>-308</td>\n",
              "      <td>52</td>\n",
              "      <td>-7</td>\n",
              "      <td>39</td>\n",
              "      <td>126</td>\n",
              "      <td>156</td>\n",
              "      <td>-50</td>\n",
              "      <td>-112</td>\n",
              "      <td>96</td>\n",
              "      <td>1</td>\n",
              "    </tr>\n",
              "    <tr>\n",
              "      <th>1</th>\n",
              "      <td>2</td>\n",
              "      <td>MUSK-211</td>\n",
              "      <td>211_1+10</td>\n",
              "      <td>41</td>\n",
              "      <td>-188</td>\n",
              "      <td>-145</td>\n",
              "      <td>22</td>\n",
              "      <td>-117</td>\n",
              "      <td>-6</td>\n",
              "      <td>57</td>\n",
              "      <td>-171</td>\n",
              "      <td>-39</td>\n",
              "      <td>-100</td>\n",
              "      <td>-319</td>\n",
              "      <td>-111</td>\n",
              "      <td>-228</td>\n",
              "      <td>-281</td>\n",
              "      <td>-281</td>\n",
              "      <td>-300</td>\n",
              "      <td>54</td>\n",
              "      <td>-149</td>\n",
              "      <td>-98</td>\n",
              "      <td>-196</td>\n",
              "      <td>-27</td>\n",
              "      <td>-22</td>\n",
              "      <td>2</td>\n",
              "      <td>75</td>\n",
              "      <td>49</td>\n",
              "      <td>-34</td>\n",
              "      <td>45</td>\n",
              "      <td>-91</td>\n",
              "      <td>32</td>\n",
              "      <td>95</td>\n",
              "      <td>-116</td>\n",
              "      <td>85</td>\n",
              "      <td>-23</td>\n",
              "      <td>42</td>\n",
              "      <td>-58</td>\n",
              "      <td>61</td>\n",
              "      <td>-171</td>\n",
              "      <td>...</td>\n",
              "      <td>88</td>\n",
              "      <td>-21</td>\n",
              "      <td>-32</td>\n",
              "      <td>32</td>\n",
              "      <td>-128</td>\n",
              "      <td>-72</td>\n",
              "      <td>-124</td>\n",
              "      <td>-218</td>\n",
              "      <td>-94</td>\n",
              "      <td>53</td>\n",
              "      <td>-79</td>\n",
              "      <td>-20</td>\n",
              "      <td>-35</td>\n",
              "      <td>-26</td>\n",
              "      <td>4</td>\n",
              "      <td>50</td>\n",
              "      <td>17</td>\n",
              "      <td>-177</td>\n",
              "      <td>-102</td>\n",
              "      <td>-121</td>\n",
              "      <td>-66</td>\n",
              "      <td>-77</td>\n",
              "      <td>51</td>\n",
              "      <td>-41</td>\n",
              "      <td>-34</td>\n",
              "      <td>-32</td>\n",
              "      <td>-63</td>\n",
              "      <td>115</td>\n",
              "      <td>-5</td>\n",
              "      <td>-235</td>\n",
              "      <td>-59</td>\n",
              "      <td>-2</td>\n",
              "      <td>52</td>\n",
              "      <td>103</td>\n",
              "      <td>136</td>\n",
              "      <td>169</td>\n",
              "      <td>-61</td>\n",
              "      <td>-136</td>\n",
              "      <td>79</td>\n",
              "      <td>1</td>\n",
              "    </tr>\n",
              "    <tr>\n",
              "      <th>2</th>\n",
              "      <td>3</td>\n",
              "      <td>MUSK-211</td>\n",
              "      <td>211_1+11</td>\n",
              "      <td>46</td>\n",
              "      <td>-194</td>\n",
              "      <td>-145</td>\n",
              "      <td>28</td>\n",
              "      <td>-117</td>\n",
              "      <td>73</td>\n",
              "      <td>57</td>\n",
              "      <td>-168</td>\n",
              "      <td>-39</td>\n",
              "      <td>-22</td>\n",
              "      <td>-319</td>\n",
              "      <td>-111</td>\n",
              "      <td>-104</td>\n",
              "      <td>-283</td>\n",
              "      <td>-282</td>\n",
              "      <td>-303</td>\n",
              "      <td>52</td>\n",
              "      <td>-152</td>\n",
              "      <td>-97</td>\n",
              "      <td>-225</td>\n",
              "      <td>-28</td>\n",
              "      <td>-22</td>\n",
              "      <td>2</td>\n",
              "      <td>179</td>\n",
              "      <td>49</td>\n",
              "      <td>-33</td>\n",
              "      <td>46</td>\n",
              "      <td>-88</td>\n",
              "      <td>22</td>\n",
              "      <td>79</td>\n",
              "      <td>-116</td>\n",
              "      <td>19</td>\n",
              "      <td>-11</td>\n",
              "      <td>6</td>\n",
              "      <td>-38</td>\n",
              "      <td>71</td>\n",
              "      <td>-175</td>\n",
              "      <td>...</td>\n",
              "      <td>64</td>\n",
              "      <td>0</td>\n",
              "      <td>-23</td>\n",
              "      <td>-15</td>\n",
              "      <td>-129</td>\n",
              "      <td>-74</td>\n",
              "      <td>-125</td>\n",
              "      <td>-221</td>\n",
              "      <td>-93</td>\n",
              "      <td>53</td>\n",
              "      <td>-72</td>\n",
              "      <td>-19</td>\n",
              "      <td>-33</td>\n",
              "      <td>-26</td>\n",
              "      <td>3</td>\n",
              "      <td>49</td>\n",
              "      <td>17</td>\n",
              "      <td>-177</td>\n",
              "      <td>-102</td>\n",
              "      <td>-119</td>\n",
              "      <td>-66</td>\n",
              "      <td>-81</td>\n",
              "      <td>51</td>\n",
              "      <td>-41</td>\n",
              "      <td>-27</td>\n",
              "      <td>-41</td>\n",
              "      <td>-140</td>\n",
              "      <td>77</td>\n",
              "      <td>-163</td>\n",
              "      <td>-238</td>\n",
              "      <td>-134</td>\n",
              "      <td>-154</td>\n",
              "      <td>57</td>\n",
              "      <td>143</td>\n",
              "      <td>142</td>\n",
              "      <td>165</td>\n",
              "      <td>-67</td>\n",
              "      <td>-145</td>\n",
              "      <td>39</td>\n",
              "      <td>1</td>\n",
              "    </tr>\n",
              "    <tr>\n",
              "      <th>3</th>\n",
              "      <td>4</td>\n",
              "      <td>MUSK-211</td>\n",
              "      <td>211_1+12</td>\n",
              "      <td>41</td>\n",
              "      <td>-188</td>\n",
              "      <td>-145</td>\n",
              "      <td>22</td>\n",
              "      <td>-117</td>\n",
              "      <td>-7</td>\n",
              "      <td>57</td>\n",
              "      <td>-170</td>\n",
              "      <td>-39</td>\n",
              "      <td>-99</td>\n",
              "      <td>-319</td>\n",
              "      <td>-111</td>\n",
              "      <td>-228</td>\n",
              "      <td>-282</td>\n",
              "      <td>-281</td>\n",
              "      <td>-301</td>\n",
              "      <td>54</td>\n",
              "      <td>-150</td>\n",
              "      <td>-98</td>\n",
              "      <td>-196</td>\n",
              "      <td>-28</td>\n",
              "      <td>-22</td>\n",
              "      <td>2</td>\n",
              "      <td>77</td>\n",
              "      <td>48</td>\n",
              "      <td>-34</td>\n",
              "      <td>46</td>\n",
              "      <td>-91</td>\n",
              "      <td>32</td>\n",
              "      <td>94</td>\n",
              "      <td>-116</td>\n",
              "      <td>84</td>\n",
              "      <td>-23</td>\n",
              "      <td>41</td>\n",
              "      <td>-58</td>\n",
              "      <td>62</td>\n",
              "      <td>-171</td>\n",
              "      <td>...</td>\n",
              "      <td>88</td>\n",
              "      <td>-20</td>\n",
              "      <td>-32</td>\n",
              "      <td>32</td>\n",
              "      <td>-128</td>\n",
              "      <td>-73</td>\n",
              "      <td>-125</td>\n",
              "      <td>-220</td>\n",
              "      <td>-93</td>\n",
              "      <td>53</td>\n",
              "      <td>-78</td>\n",
              "      <td>-19</td>\n",
              "      <td>-34</td>\n",
              "      <td>-26</td>\n",
              "      <td>4</td>\n",
              "      <td>50</td>\n",
              "      <td>17</td>\n",
              "      <td>-177</td>\n",
              "      <td>-101</td>\n",
              "      <td>-121</td>\n",
              "      <td>-65</td>\n",
              "      <td>-77</td>\n",
              "      <td>52</td>\n",
              "      <td>-41</td>\n",
              "      <td>-34</td>\n",
              "      <td>-32</td>\n",
              "      <td>-66</td>\n",
              "      <td>115</td>\n",
              "      <td>-7</td>\n",
              "      <td>-236</td>\n",
              "      <td>-60</td>\n",
              "      <td>-4</td>\n",
              "      <td>52</td>\n",
              "      <td>104</td>\n",
              "      <td>136</td>\n",
              "      <td>168</td>\n",
              "      <td>-60</td>\n",
              "      <td>-135</td>\n",
              "      <td>80</td>\n",
              "      <td>1</td>\n",
              "    </tr>\n",
              "    <tr>\n",
              "      <th>4</th>\n",
              "      <td>5</td>\n",
              "      <td>MUSK-211</td>\n",
              "      <td>211_1+13</td>\n",
              "      <td>41</td>\n",
              "      <td>-188</td>\n",
              "      <td>-145</td>\n",
              "      <td>22</td>\n",
              "      <td>-117</td>\n",
              "      <td>-7</td>\n",
              "      <td>57</td>\n",
              "      <td>-170</td>\n",
              "      <td>-39</td>\n",
              "      <td>-99</td>\n",
              "      <td>-319</td>\n",
              "      <td>-111</td>\n",
              "      <td>-228</td>\n",
              "      <td>-282</td>\n",
              "      <td>-281</td>\n",
              "      <td>-301</td>\n",
              "      <td>54</td>\n",
              "      <td>-150</td>\n",
              "      <td>-98</td>\n",
              "      <td>-196</td>\n",
              "      <td>-28</td>\n",
              "      <td>-22</td>\n",
              "      <td>2</td>\n",
              "      <td>78</td>\n",
              "      <td>48</td>\n",
              "      <td>-34</td>\n",
              "      <td>46</td>\n",
              "      <td>-91</td>\n",
              "      <td>31</td>\n",
              "      <td>94</td>\n",
              "      <td>-116</td>\n",
              "      <td>84</td>\n",
              "      <td>-23</td>\n",
              "      <td>41</td>\n",
              "      <td>-58</td>\n",
              "      <td>62</td>\n",
              "      <td>-171</td>\n",
              "      <td>...</td>\n",
              "      <td>88</td>\n",
              "      <td>-20</td>\n",
              "      <td>-32</td>\n",
              "      <td>32</td>\n",
              "      <td>-128</td>\n",
              "      <td>-73</td>\n",
              "      <td>-125</td>\n",
              "      <td>-220</td>\n",
              "      <td>-93</td>\n",
              "      <td>53</td>\n",
              "      <td>-78</td>\n",
              "      <td>-19</td>\n",
              "      <td>-34</td>\n",
              "      <td>-26</td>\n",
              "      <td>4</td>\n",
              "      <td>50</td>\n",
              "      <td>17</td>\n",
              "      <td>-177</td>\n",
              "      <td>-101</td>\n",
              "      <td>-121</td>\n",
              "      <td>-65</td>\n",
              "      <td>-76</td>\n",
              "      <td>52</td>\n",
              "      <td>-41</td>\n",
              "      <td>-34</td>\n",
              "      <td>-32</td>\n",
              "      <td>-66</td>\n",
              "      <td>115</td>\n",
              "      <td>-8</td>\n",
              "      <td>-236</td>\n",
              "      <td>-60</td>\n",
              "      <td>-4</td>\n",
              "      <td>52</td>\n",
              "      <td>104</td>\n",
              "      <td>137</td>\n",
              "      <td>168</td>\n",
              "      <td>-60</td>\n",
              "      <td>-135</td>\n",
              "      <td>80</td>\n",
              "      <td>1</td>\n",
              "    </tr>\n",
              "  </tbody>\n",
              "</table>\n",
              "<p>5 rows × 170 columns</p>\n",
              "</div>"
            ],
            "text/plain": [
              "   ID molecule_name conformation_name  f1   f2  ...  f163  f164  f165  f166  class\n",
              "0   1      MUSK-211           211_1+1  46 -108  ...   156   -50  -112    96      1\n",
              "1   2      MUSK-211          211_1+10  41 -188  ...   169   -61  -136    79      1\n",
              "2   3      MUSK-211          211_1+11  46 -194  ...   165   -67  -145    39      1\n",
              "3   4      MUSK-211          211_1+12  41 -188  ...   168   -60  -135    80      1\n",
              "4   5      MUSK-211          211_1+13  41 -188  ...   168   -60  -135    80      1\n",
              "\n",
              "[5 rows x 170 columns]"
            ]
          },
          "metadata": {
            "tags": []
          },
          "execution_count": 217
        }
      ]
    },
    {
      "cell_type": "markdown",
      "metadata": {
        "id": "R7QHnNRcO4JG"
      },
      "source": [
        "## **3. Variable Identification and typecasting if necessary.**"
      ]
    },
    {
      "cell_type": "code",
      "metadata": {
        "colab": {
          "base_uri": "https://localhost:8080/"
        },
        "id": "eRWfM9gYDKjx",
        "outputId": "90a5db08-e700-4db4-f193-03e19930825c"
      },
      "source": [
        "data.columns"
      ],
      "execution_count": 218,
      "outputs": [
        {
          "output_type": "execute_result",
          "data": {
            "text/plain": [
              "Index(['ID', 'molecule_name', 'conformation_name', 'f1', 'f2', 'f3', 'f4',\n",
              "       'f5', 'f6', 'f7',\n",
              "       ...\n",
              "       'f158', 'f159', 'f160', 'f161', 'f162', 'f163', 'f164', 'f165', 'f166',\n",
              "       'class'],\n",
              "      dtype='object', length=170)"
            ]
          },
          "metadata": {
            "tags": []
          },
          "execution_count": 218
        }
      ]
    },
    {
      "cell_type": "code",
      "metadata": {
        "colab": {
          "base_uri": "https://localhost:8080/"
        },
        "id": "nOqZUfUIEor2",
        "outputId": "5045ed38-f6dd-44bd-c1b9-0ecebbb6eb5e"
      },
      "source": [
        "data.info()"
      ],
      "execution_count": 219,
      "outputs": [
        {
          "output_type": "stream",
          "text": [
            "<class 'pandas.core.frame.DataFrame'>\n",
            "RangeIndex: 6598 entries, 0 to 6597\n",
            "Columns: 170 entries, ID to class\n",
            "dtypes: int64(168), object(2)\n",
            "memory usage: 8.6+ MB\n"
          ],
          "name": "stdout"
        }
      ]
    },
    {
      "cell_type": "code",
      "metadata": {
        "colab": {
          "base_uri": "https://localhost:8080/"
        },
        "id": "8nq7y1DLFSfg",
        "outputId": "3c3ba80a-6567-48a6-f036-d4ee1674c8c5"
      },
      "source": [
        "data.dtypes"
      ],
      "execution_count": 220,
      "outputs": [
        {
          "output_type": "execute_result",
          "data": {
            "text/plain": [
              "ID                    int64\n",
              "molecule_name        object\n",
              "conformation_name    object\n",
              "f1                    int64\n",
              "f2                    int64\n",
              "                      ...  \n",
              "f163                  int64\n",
              "f164                  int64\n",
              "f165                  int64\n",
              "f166                  int64\n",
              "class                 int64\n",
              "Length: 170, dtype: object"
            ]
          },
          "metadata": {
            "tags": []
          },
          "execution_count": 220
        }
      ]
    },
    {
      "cell_type": "code",
      "metadata": {
        "colab": {
          "base_uri": "https://localhost:8080/"
        },
        "id": "3kd0QTmSPGSM",
        "outputId": "213314fe-cbae-44d4-e817-a5a38687869c"
      },
      "source": [
        "data.nunique()"
      ],
      "execution_count": 221,
      "outputs": [
        {
          "output_type": "execute_result",
          "data": {
            "text/plain": [
              "ID                   6598\n",
              "molecule_name         102\n",
              "conformation_name    6598\n",
              "f1                    202\n",
              "f2                    260\n",
              "                     ... \n",
              "f163                  292\n",
              "f164                  172\n",
              "f165                  352\n",
              "f166                  385\n",
              "class                   2\n",
              "Length: 170, dtype: int64"
            ]
          },
          "metadata": {
            "tags": []
          },
          "execution_count": 221
        }
      ]
    },
    {
      "cell_type": "markdown",
      "metadata": {
        "id": "d9xNCN7EPZRk"
      },
      "source": [
        "### Checking whether the given data is balanced or not."
      ]
    },
    {
      "cell_type": "code",
      "metadata": {
        "colab": {
          "base_uri": "https://localhost:8080/"
        },
        "id": "tMzqihj3DpTp",
        "outputId": "a30585a8-d0fa-4ee6-b1c0-86bc8314bc7e"
      },
      "source": [
        "# Checking whether the given data is balanced or not.\n",
        "data['class'].value_counts()"
      ],
      "execution_count": 222,
      "outputs": [
        {
          "output_type": "execute_result",
          "data": {
            "text/plain": [
              "0    5581\n",
              "1    1017\n",
              "Name: class, dtype: int64"
            ]
          },
          "metadata": {
            "tags": []
          },
          "execution_count": 222
        }
      ]
    },
    {
      "cell_type": "code",
      "metadata": {
        "id": "uzXBZ-O2IFcl",
        "colab": {
          "base_uri": "https://localhost:8080/",
          "height": 335
        },
        "outputId": "2704c067-100f-4f2d-e165-a1d607004d66"
      },
      "source": [
        "data.describe()"
      ],
      "execution_count": 223,
      "outputs": [
        {
          "output_type": "execute_result",
          "data": {
            "text/html": [
              "<div>\n",
              "<style scoped>\n",
              "    .dataframe tbody tr th:only-of-type {\n",
              "        vertical-align: middle;\n",
              "    }\n",
              "\n",
              "    .dataframe tbody tr th {\n",
              "        vertical-align: top;\n",
              "    }\n",
              "\n",
              "    .dataframe thead th {\n",
              "        text-align: right;\n",
              "    }\n",
              "</style>\n",
              "<table border=\"1\" class=\"dataframe\">\n",
              "  <thead>\n",
              "    <tr style=\"text-align: right;\">\n",
              "      <th></th>\n",
              "      <th>ID</th>\n",
              "      <th>f1</th>\n",
              "      <th>f2</th>\n",
              "      <th>f3</th>\n",
              "      <th>f4</th>\n",
              "      <th>f5</th>\n",
              "      <th>f6</th>\n",
              "      <th>f7</th>\n",
              "      <th>f8</th>\n",
              "      <th>f9</th>\n",
              "      <th>f10</th>\n",
              "      <th>f11</th>\n",
              "      <th>f12</th>\n",
              "      <th>f13</th>\n",
              "      <th>f14</th>\n",
              "      <th>f15</th>\n",
              "      <th>f16</th>\n",
              "      <th>f17</th>\n",
              "      <th>f18</th>\n",
              "      <th>f19</th>\n",
              "      <th>f20</th>\n",
              "      <th>f21</th>\n",
              "      <th>f22</th>\n",
              "      <th>f23</th>\n",
              "      <th>f24</th>\n",
              "      <th>f25</th>\n",
              "      <th>f26</th>\n",
              "      <th>f27</th>\n",
              "      <th>f28</th>\n",
              "      <th>f29</th>\n",
              "      <th>f30</th>\n",
              "      <th>f31</th>\n",
              "      <th>f32</th>\n",
              "      <th>f33</th>\n",
              "      <th>f34</th>\n",
              "      <th>f35</th>\n",
              "      <th>f36</th>\n",
              "      <th>f37</th>\n",
              "      <th>f38</th>\n",
              "      <th>f39</th>\n",
              "      <th>...</th>\n",
              "      <th>f128</th>\n",
              "      <th>f129</th>\n",
              "      <th>f130</th>\n",
              "      <th>f131</th>\n",
              "      <th>f132</th>\n",
              "      <th>f133</th>\n",
              "      <th>f134</th>\n",
              "      <th>f135</th>\n",
              "      <th>f136</th>\n",
              "      <th>f137</th>\n",
              "      <th>f138</th>\n",
              "      <th>f139</th>\n",
              "      <th>f140</th>\n",
              "      <th>f141</th>\n",
              "      <th>f142</th>\n",
              "      <th>f143</th>\n",
              "      <th>f144</th>\n",
              "      <th>f145</th>\n",
              "      <th>f146</th>\n",
              "      <th>f147</th>\n",
              "      <th>f148</th>\n",
              "      <th>f149</th>\n",
              "      <th>f150</th>\n",
              "      <th>f151</th>\n",
              "      <th>f152</th>\n",
              "      <th>f153</th>\n",
              "      <th>f154</th>\n",
              "      <th>f155</th>\n",
              "      <th>f156</th>\n",
              "      <th>f157</th>\n",
              "      <th>f158</th>\n",
              "      <th>f159</th>\n",
              "      <th>f160</th>\n",
              "      <th>f161</th>\n",
              "      <th>f162</th>\n",
              "      <th>f163</th>\n",
              "      <th>f164</th>\n",
              "      <th>f165</th>\n",
              "      <th>f166</th>\n",
              "      <th>class</th>\n",
              "    </tr>\n",
              "  </thead>\n",
              "  <tbody>\n",
              "    <tr>\n",
              "      <th>count</th>\n",
              "      <td>6598.00000</td>\n",
              "      <td>6598.000000</td>\n",
              "      <td>6598.000000</td>\n",
              "      <td>6598.000000</td>\n",
              "      <td>6598.000000</td>\n",
              "      <td>6598.000000</td>\n",
              "      <td>6598.000000</td>\n",
              "      <td>6598.000000</td>\n",
              "      <td>6598.000000</td>\n",
              "      <td>6598.000000</td>\n",
              "      <td>6598.000000</td>\n",
              "      <td>6598.000000</td>\n",
              "      <td>6598.000000</td>\n",
              "      <td>6598.000000</td>\n",
              "      <td>6598.000000</td>\n",
              "      <td>6598.000000</td>\n",
              "      <td>6598.000000</td>\n",
              "      <td>6598.000000</td>\n",
              "      <td>6598.000000</td>\n",
              "      <td>6598.000000</td>\n",
              "      <td>6598.000000</td>\n",
              "      <td>6598.000000</td>\n",
              "      <td>6598.000000</td>\n",
              "      <td>6598.000000</td>\n",
              "      <td>6598.000000</td>\n",
              "      <td>6598.000000</td>\n",
              "      <td>6598.000000</td>\n",
              "      <td>6598.000000</td>\n",
              "      <td>6598.000000</td>\n",
              "      <td>6598.000000</td>\n",
              "      <td>6598.000000</td>\n",
              "      <td>6598.000000</td>\n",
              "      <td>6598.000000</td>\n",
              "      <td>6598.000000</td>\n",
              "      <td>6598.000000</td>\n",
              "      <td>6598.000000</td>\n",
              "      <td>6598.000000</td>\n",
              "      <td>6598.000000</td>\n",
              "      <td>6598.000000</td>\n",
              "      <td>6598.000000</td>\n",
              "      <td>...</td>\n",
              "      <td>6598.000000</td>\n",
              "      <td>6598.000000</td>\n",
              "      <td>6598.000000</td>\n",
              "      <td>6598.000000</td>\n",
              "      <td>6598.000000</td>\n",
              "      <td>6598.000000</td>\n",
              "      <td>6598.000000</td>\n",
              "      <td>6598.000000</td>\n",
              "      <td>6598.000000</td>\n",
              "      <td>6598.000000</td>\n",
              "      <td>6598.000000</td>\n",
              "      <td>6598.000000</td>\n",
              "      <td>6598.000000</td>\n",
              "      <td>6598.000000</td>\n",
              "      <td>6598.000000</td>\n",
              "      <td>6598.000000</td>\n",
              "      <td>6598.000000</td>\n",
              "      <td>6598.000000</td>\n",
              "      <td>6598.000000</td>\n",
              "      <td>6598.000000</td>\n",
              "      <td>6598.000000</td>\n",
              "      <td>6598.000000</td>\n",
              "      <td>6598.000000</td>\n",
              "      <td>6598.000000</td>\n",
              "      <td>6598.000000</td>\n",
              "      <td>6598.000000</td>\n",
              "      <td>6598.000000</td>\n",
              "      <td>6598.000000</td>\n",
              "      <td>6598.000000</td>\n",
              "      <td>6598.000000</td>\n",
              "      <td>6598.000000</td>\n",
              "      <td>6598.000000</td>\n",
              "      <td>6598.000000</td>\n",
              "      <td>6598.000000</td>\n",
              "      <td>6598.000000</td>\n",
              "      <td>6598.000000</td>\n",
              "      <td>6598.000000</td>\n",
              "      <td>6598.000000</td>\n",
              "      <td>6598.000000</td>\n",
              "      <td>6598.000000</td>\n",
              "    </tr>\n",
              "    <tr>\n",
              "      <th>mean</th>\n",
              "      <td>3299.50000</td>\n",
              "      <td>58.945135</td>\n",
              "      <td>-119.128524</td>\n",
              "      <td>-73.146560</td>\n",
              "      <td>-0.628372</td>\n",
              "      <td>-103.533495</td>\n",
              "      <td>18.359806</td>\n",
              "      <td>-14.108821</td>\n",
              "      <td>-1.858290</td>\n",
              "      <td>-86.003031</td>\n",
              "      <td>-44.495756</td>\n",
              "      <td>-119.456502</td>\n",
              "      <td>-84.929221</td>\n",
              "      <td>-61.911185</td>\n",
              "      <td>-127.935283</td>\n",
              "      <td>-123.005153</td>\n",
              "      <td>-265.690967</td>\n",
              "      <td>-53.415732</td>\n",
              "      <td>-67.741285</td>\n",
              "      <td>-52.352531</td>\n",
              "      <td>-44.902698</td>\n",
              "      <td>-75.645953</td>\n",
              "      <td>-55.783419</td>\n",
              "      <td>-61.619127</td>\n",
              "      <td>72.506062</td>\n",
              "      <td>32.285238</td>\n",
              "      <td>-69.659139</td>\n",
              "      <td>-15.361018</td>\n",
              "      <td>-102.665959</td>\n",
              "      <td>8.520764</td>\n",
              "      <td>12.553956</td>\n",
              "      <td>-82.314186</td>\n",
              "      <td>25.436193</td>\n",
              "      <td>-34.503183</td>\n",
              "      <td>-78.915732</td>\n",
              "      <td>-73.199000</td>\n",
              "      <td>115.882995</td>\n",
              "      <td>-115.562746</td>\n",
              "      <td>-7.853289</td>\n",
              "      <td>-75.578509</td>\n",
              "      <td>...</td>\n",
              "      <td>-19.476811</td>\n",
              "      <td>-68.070627</td>\n",
              "      <td>-94.963474</td>\n",
              "      <td>2.993786</td>\n",
              "      <td>-36.652774</td>\n",
              "      <td>-79.191422</td>\n",
              "      <td>-90.778266</td>\n",
              "      <td>-95.868142</td>\n",
              "      <td>-28.259473</td>\n",
              "      <td>-8.521067</td>\n",
              "      <td>-37.599121</td>\n",
              "      <td>-67.789330</td>\n",
              "      <td>-51.976508</td>\n",
              "      <td>-65.693089</td>\n",
              "      <td>-0.443165</td>\n",
              "      <td>1.331464</td>\n",
              "      <td>-21.754319</td>\n",
              "      <td>-165.748863</td>\n",
              "      <td>-87.364050</td>\n",
              "      <td>-113.114580</td>\n",
              "      <td>-18.523644</td>\n",
              "      <td>-41.386481</td>\n",
              "      <td>8.755077</td>\n",
              "      <td>-55.026069</td>\n",
              "      <td>-61.105335</td>\n",
              "      <td>-54.810397</td>\n",
              "      <td>-76.831161</td>\n",
              "      <td>33.209912</td>\n",
              "      <td>-61.212337</td>\n",
              "      <td>-210.975447</td>\n",
              "      <td>-184.798272</td>\n",
              "      <td>-75.795696</td>\n",
              "      <td>-26.073204</td>\n",
              "      <td>64.616702</td>\n",
              "      <td>112.037739</td>\n",
              "      <td>201.760230</td>\n",
              "      <td>-47.488330</td>\n",
              "      <td>-150.259927</td>\n",
              "      <td>41.770233</td>\n",
              "      <td>0.154138</td>\n",
              "    </tr>\n",
              "    <tr>\n",
              "      <th>std</th>\n",
              "      <td>1904.82287</td>\n",
              "      <td>53.249007</td>\n",
              "      <td>90.813375</td>\n",
              "      <td>67.956235</td>\n",
              "      <td>80.444617</td>\n",
              "      <td>64.387559</td>\n",
              "      <td>80.593655</td>\n",
              "      <td>115.315673</td>\n",
              "      <td>90.372537</td>\n",
              "      <td>108.326676</td>\n",
              "      <td>72.088903</td>\n",
              "      <td>108.911397</td>\n",
              "      <td>79.541410</td>\n",
              "      <td>61.444281</td>\n",
              "      <td>101.191126</td>\n",
              "      <td>98.009158</td>\n",
              "      <td>70.647329</td>\n",
              "      <td>117.237608</td>\n",
              "      <td>61.403085</td>\n",
              "      <td>82.503477</td>\n",
              "      <td>79.304489</td>\n",
              "      <td>75.187995</td>\n",
              "      <td>101.908604</td>\n",
              "      <td>94.524709</td>\n",
              "      <td>123.334433</td>\n",
              "      <td>108.105908</td>\n",
              "      <td>101.325550</td>\n",
              "      <td>91.621335</td>\n",
              "      <td>73.778232</td>\n",
              "      <td>63.484770</td>\n",
              "      <td>126.086157</td>\n",
              "      <td>80.225924</td>\n",
              "      <td>106.627993</td>\n",
              "      <td>57.816952</td>\n",
              "      <td>118.201270</td>\n",
              "      <td>75.350809</td>\n",
              "      <td>57.070192</td>\n",
              "      <td>104.682519</td>\n",
              "      <td>85.732778</td>\n",
              "      <td>70.534415</td>\n",
              "      <td>...</td>\n",
              "      <td>130.607205</td>\n",
              "      <td>70.016546</td>\n",
              "      <td>98.100733</td>\n",
              "      <td>60.633027</td>\n",
              "      <td>84.316386</td>\n",
              "      <td>61.733776</td>\n",
              "      <td>68.098995</td>\n",
              "      <td>87.253395</td>\n",
              "      <td>61.664300</td>\n",
              "      <td>97.997434</td>\n",
              "      <td>77.580190</td>\n",
              "      <td>94.753428</td>\n",
              "      <td>64.344336</td>\n",
              "      <td>69.094605</td>\n",
              "      <td>82.410293</td>\n",
              "      <td>103.746483</td>\n",
              "      <td>103.113954</td>\n",
              "      <td>54.087579</td>\n",
              "      <td>51.177725</td>\n",
              "      <td>21.463582</td>\n",
              "      <td>63.048333</td>\n",
              "      <td>73.864481</td>\n",
              "      <td>83.274158</td>\n",
              "      <td>60.100098</td>\n",
              "      <td>70.788743</td>\n",
              "      <td>67.538140</td>\n",
              "      <td>76.908685</td>\n",
              "      <td>98.511502</td>\n",
              "      <td>97.547356</td>\n",
              "      <td>83.710890</td>\n",
              "      <td>107.819514</td>\n",
              "      <td>127.861271</td>\n",
              "      <td>69.727964</td>\n",
              "      <td>100.861935</td>\n",
              "      <td>72.835040</td>\n",
              "      <td>59.526751</td>\n",
              "      <td>55.069365</td>\n",
              "      <td>76.019023</td>\n",
              "      <td>94.116085</td>\n",
              "      <td>0.361108</td>\n",
              "    </tr>\n",
              "    <tr>\n",
              "      <th>min</th>\n",
              "      <td>1.00000</td>\n",
              "      <td>-31.000000</td>\n",
              "      <td>-199.000000</td>\n",
              "      <td>-167.000000</td>\n",
              "      <td>-114.000000</td>\n",
              "      <td>-118.000000</td>\n",
              "      <td>-183.000000</td>\n",
              "      <td>-171.000000</td>\n",
              "      <td>-225.000000</td>\n",
              "      <td>-245.000000</td>\n",
              "      <td>-286.000000</td>\n",
              "      <td>-328.000000</td>\n",
              "      <td>-321.000000</td>\n",
              "      <td>-305.000000</td>\n",
              "      <td>-342.000000</td>\n",
              "      <td>-294.000000</td>\n",
              "      <td>-327.000000</td>\n",
              "      <td>-224.000000</td>\n",
              "      <td>-308.000000</td>\n",
              "      <td>-286.000000</td>\n",
              "      <td>-252.000000</td>\n",
              "      <td>-295.000000</td>\n",
              "      <td>-185.000000</td>\n",
              "      <td>-253.000000</td>\n",
              "      <td>-76.000000</td>\n",
              "      <td>-100.000000</td>\n",
              "      <td>-242.000000</td>\n",
              "      <td>-205.000000</td>\n",
              "      <td>-166.000000</td>\n",
              "      <td>-142.000000</td>\n",
              "      <td>-162.000000</td>\n",
              "      <td>-117.000000</td>\n",
              "      <td>-143.000000</td>\n",
              "      <td>-139.000000</td>\n",
              "      <td>-279.000000</td>\n",
              "      <td>-160.000000</td>\n",
              "      <td>-7.000000</td>\n",
              "      <td>-175.000000</td>\n",
              "      <td>-190.000000</td>\n",
              "      <td>-148.000000</td>\n",
              "      <td>...</td>\n",
              "      <td>-221.000000</td>\n",
              "      <td>-307.000000</td>\n",
              "      <td>-189.000000</td>\n",
              "      <td>-123.000000</td>\n",
              "      <td>-140.000000</td>\n",
              "      <td>-319.000000</td>\n",
              "      <td>-338.000000</td>\n",
              "      <td>-336.000000</td>\n",
              "      <td>-196.000000</td>\n",
              "      <td>-197.000000</td>\n",
              "      <td>-199.000000</td>\n",
              "      <td>-243.000000</td>\n",
              "      <td>-283.000000</td>\n",
              "      <td>-290.000000</td>\n",
              "      <td>-185.000000</td>\n",
              "      <td>-157.000000</td>\n",
              "      <td>-171.000000</td>\n",
              "      <td>-179.000000</td>\n",
              "      <td>-106.000000</td>\n",
              "      <td>-136.000000</td>\n",
              "      <td>-200.000000</td>\n",
              "      <td>-213.000000</td>\n",
              "      <td>-190.000000</td>\n",
              "      <td>-140.000000</td>\n",
              "      <td>-128.000000</td>\n",
              "      <td>-114.000000</td>\n",
              "      <td>-173.000000</td>\n",
              "      <td>-143.000000</td>\n",
              "      <td>-198.000000</td>\n",
              "      <td>-257.000000</td>\n",
              "      <td>-328.000000</td>\n",
              "      <td>-219.000000</td>\n",
              "      <td>-136.000000</td>\n",
              "      <td>-120.000000</td>\n",
              "      <td>-69.000000</td>\n",
              "      <td>73.000000</td>\n",
              "      <td>-289.000000</td>\n",
              "      <td>-428.000000</td>\n",
              "      <td>-471.000000</td>\n",
              "      <td>0.000000</td>\n",
              "    </tr>\n",
              "    <tr>\n",
              "      <th>25%</th>\n",
              "      <td>1650.25000</td>\n",
              "      <td>37.000000</td>\n",
              "      <td>-193.000000</td>\n",
              "      <td>-137.000000</td>\n",
              "      <td>-70.000000</td>\n",
              "      <td>-117.000000</td>\n",
              "      <td>-28.000000</td>\n",
              "      <td>-159.000000</td>\n",
              "      <td>-85.000000</td>\n",
              "      <td>-217.000000</td>\n",
              "      <td>-96.750000</td>\n",
              "      <td>-207.000000</td>\n",
              "      <td>-114.000000</td>\n",
              "      <td>-85.000000</td>\n",
              "      <td>-199.750000</td>\n",
              "      <td>-195.000000</td>\n",
              "      <td>-301.000000</td>\n",
              "      <td>-177.000000</td>\n",
              "      <td>-85.000000</td>\n",
              "      <td>-98.000000</td>\n",
              "      <td>-60.000000</td>\n",
              "      <td>-118.000000</td>\n",
              "      <td>-180.000000</td>\n",
              "      <td>-154.000000</td>\n",
              "      <td>-61.000000</td>\n",
              "      <td>-95.000000</td>\n",
              "      <td>-182.000000</td>\n",
              "      <td>-105.000000</td>\n",
              "      <td>-154.000000</td>\n",
              "      <td>-44.000000</td>\n",
              "      <td>-135.000000</td>\n",
              "      <td>-116.000000</td>\n",
              "      <td>-91.000000</td>\n",
              "      <td>-81.000000</td>\n",
              "      <td>-211.000000</td>\n",
              "      <td>-136.000000</td>\n",
              "      <td>78.000000</td>\n",
              "      <td>-174.000000</td>\n",
              "      <td>-82.000000</td>\n",
              "      <td>-144.000000</td>\n",
              "      <td>...</td>\n",
              "      <td>-170.000000</td>\n",
              "      <td>-112.000000</td>\n",
              "      <td>-187.000000</td>\n",
              "      <td>-43.000000</td>\n",
              "      <td>-115.000000</td>\n",
              "      <td>-94.000000</td>\n",
              "      <td>-126.000000</td>\n",
              "      <td>-172.000000</td>\n",
              "      <td>-84.000000</td>\n",
              "      <td>-111.750000</td>\n",
              "      <td>-88.000000</td>\n",
              "      <td>-164.000000</td>\n",
              "      <td>-71.000000</td>\n",
              "      <td>-101.000000</td>\n",
              "      <td>-83.750000</td>\n",
              "      <td>-133.000000</td>\n",
              "      <td>-156.000000</td>\n",
              "      <td>-178.000000</td>\n",
              "      <td>-103.000000</td>\n",
              "      <td>-121.000000</td>\n",
              "      <td>-59.000000</td>\n",
              "      <td>-90.000000</td>\n",
              "      <td>-45.000000</td>\n",
              "      <td>-101.000000</td>\n",
              "      <td>-123.000000</td>\n",
              "      <td>-112.000000</td>\n",
              "      <td>-166.000000</td>\n",
              "      <td>-43.000000</td>\n",
              "      <td>-183.000000</td>\n",
              "      <td>-240.000000</td>\n",
              "      <td>-272.000000</td>\n",
              "      <td>-205.000000</td>\n",
              "      <td>-70.000000</td>\n",
              "      <td>-18.000000</td>\n",
              "      <td>71.000000</td>\n",
              "      <td>166.000000</td>\n",
              "      <td>-68.000000</td>\n",
              "      <td>-179.000000</td>\n",
              "      <td>-9.000000</td>\n",
              "      <td>0.000000</td>\n",
              "    </tr>\n",
              "    <tr>\n",
              "      <th>50%</th>\n",
              "      <td>3299.50000</td>\n",
              "      <td>44.000000</td>\n",
              "      <td>-149.000000</td>\n",
              "      <td>-99.000000</td>\n",
              "      <td>-25.000000</td>\n",
              "      <td>-117.000000</td>\n",
              "      <td>33.000000</td>\n",
              "      <td>27.000000</td>\n",
              "      <td>19.000000</td>\n",
              "      <td>-40.000000</td>\n",
              "      <td>-29.000000</td>\n",
              "      <td>-83.000000</td>\n",
              "      <td>-86.000000</td>\n",
              "      <td>-66.000000</td>\n",
              "      <td>-92.000000</td>\n",
              "      <td>-89.000000</td>\n",
              "      <td>-290.000000</td>\n",
              "      <td>-53.000000</td>\n",
              "      <td>-69.000000</td>\n",
              "      <td>-39.000000</td>\n",
              "      <td>-38.000000</td>\n",
              "      <td>-63.000000</td>\n",
              "      <td>-19.000000</td>\n",
              "      <td>-41.000000</td>\n",
              "      <td>96.000000</td>\n",
              "      <td>80.000000</td>\n",
              "      <td>-35.000000</td>\n",
              "      <td>23.000000</td>\n",
              "      <td>-132.000000</td>\n",
              "      <td>9.000000</td>\n",
              "      <td>69.000000</td>\n",
              "      <td>-116.000000</td>\n",
              "      <td>11.500000</td>\n",
              "      <td>-24.000000</td>\n",
              "      <td>-32.000000</td>\n",
              "      <td>-120.000000</td>\n",
              "      <td>102.000000</td>\n",
              "      <td>-167.000000</td>\n",
              "      <td>6.000000</td>\n",
              "      <td>-104.000000</td>\n",
              "      <td>...</td>\n",
              "      <td>54.000000</td>\n",
              "      <td>-70.000000</td>\n",
              "      <td>-131.000000</td>\n",
              "      <td>18.000000</td>\n",
              "      <td>-57.500000</td>\n",
              "      <td>-78.000000</td>\n",
              "      <td>-87.000000</td>\n",
              "      <td>-80.500000</td>\n",
              "      <td>-26.000000</td>\n",
              "      <td>39.000000</td>\n",
              "      <td>-47.000000</td>\n",
              "      <td>-34.500000</td>\n",
              "      <td>-48.000000</td>\n",
              "      <td>-64.000000</td>\n",
              "      <td>12.000000</td>\n",
              "      <td>42.000000</td>\n",
              "      <td>17.000000</td>\n",
              "      <td>-178.000000</td>\n",
              "      <td>-103.000000</td>\n",
              "      <td>-119.000000</td>\n",
              "      <td>-31.000000</td>\n",
              "      <td>-52.000000</td>\n",
              "      <td>39.000000</td>\n",
              "      <td>-63.000000</td>\n",
              "      <td>-113.000000</td>\n",
              "      <td>-111.000000</td>\n",
              "      <td>-61.000000</td>\n",
              "      <td>5.000000</td>\n",
              "      <td>-31.000000</td>\n",
              "      <td>-236.000000</td>\n",
              "      <td>-234.000000</td>\n",
              "      <td>-131.000000</td>\n",
              "      <td>-21.000000</td>\n",
              "      <td>61.500000</td>\n",
              "      <td>107.000000</td>\n",
              "      <td>191.000000</td>\n",
              "      <td>-60.000000</td>\n",
              "      <td>-150.000000</td>\n",
              "      <td>27.000000</td>\n",
              "      <td>0.000000</td>\n",
              "    </tr>\n",
              "    <tr>\n",
              "      <th>75%</th>\n",
              "      <td>4948.75000</td>\n",
              "      <td>53.000000</td>\n",
              "      <td>-95.000000</td>\n",
              "      <td>-19.000000</td>\n",
              "      <td>42.000000</td>\n",
              "      <td>-116.000000</td>\n",
              "      <td>74.000000</td>\n",
              "      <td>57.000000</td>\n",
              "      <td>61.000000</td>\n",
              "      <td>-21.000000</td>\n",
              "      <td>4.000000</td>\n",
              "      <td>-46.000000</td>\n",
              "      <td>-35.000000</td>\n",
              "      <td>-45.000000</td>\n",
              "      <td>-72.000000</td>\n",
              "      <td>-73.000000</td>\n",
              "      <td>-273.000000</td>\n",
              "      <td>53.000000</td>\n",
              "      <td>-46.000000</td>\n",
              "      <td>-6.000000</td>\n",
              "      <td>-11.000000</td>\n",
              "      <td>-37.000000</td>\n",
              "      <td>-9.000000</td>\n",
              "      <td>8.000000</td>\n",
              "      <td>185.000000</td>\n",
              "      <td>109.000000</td>\n",
              "      <td>10.000000</td>\n",
              "      <td>48.000000</td>\n",
              "      <td>-85.000000</td>\n",
              "      <td>33.000000</td>\n",
              "      <td>104.000000</td>\n",
              "      <td>-108.000000</td>\n",
              "      <td>131.000000</td>\n",
              "      <td>-11.000000</td>\n",
              "      <td>14.000000</td>\n",
              "      <td>-22.000000</td>\n",
              "      <td>151.000000</td>\n",
              "      <td>-140.000000</td>\n",
              "      <td>57.000000</td>\n",
              "      <td>-25.000000</td>\n",
              "      <td>...</td>\n",
              "      <td>81.000000</td>\n",
              "      <td>-30.000000</td>\n",
              "      <td>-25.000000</td>\n",
              "      <td>37.000000</td>\n",
              "      <td>20.000000</td>\n",
              "      <td>-64.000000</td>\n",
              "      <td>-61.000000</td>\n",
              "      <td>-37.000000</td>\n",
              "      <td>-10.000000</td>\n",
              "      <td>53.000000</td>\n",
              "      <td>-16.000000</td>\n",
              "      <td>-3.000000</td>\n",
              "      <td>-33.000000</td>\n",
              "      <td>-36.000000</td>\n",
              "      <td>67.000000</td>\n",
              "      <td>78.000000</td>\n",
              "      <td>60.000000</td>\n",
              "      <td>-178.000000</td>\n",
              "      <td>-101.000000</td>\n",
              "      <td>-115.000000</td>\n",
              "      <td>15.000000</td>\n",
              "      <td>-17.000000</td>\n",
              "      <td>57.000000</td>\n",
              "      <td>-25.000000</td>\n",
              "      <td>1.000000</td>\n",
              "      <td>8.000000</td>\n",
              "      <td>-41.000000</td>\n",
              "      <td>122.000000</td>\n",
              "      <td>19.000000</td>\n",
              "      <td>-231.000000</td>\n",
              "      <td>-80.000000</td>\n",
              "      <td>52.000000</td>\n",
              "      <td>9.000000</td>\n",
              "      <td>149.000000</td>\n",
              "      <td>129.000000</td>\n",
              "      <td>215.000000</td>\n",
              "      <td>-45.000000</td>\n",
              "      <td>-120.000000</td>\n",
              "      <td>119.000000</td>\n",
              "      <td>0.000000</td>\n",
              "    </tr>\n",
              "    <tr>\n",
              "      <th>max</th>\n",
              "      <td>6598.00000</td>\n",
              "      <td>292.000000</td>\n",
              "      <td>95.000000</td>\n",
              "      <td>81.000000</td>\n",
              "      <td>161.000000</td>\n",
              "      <td>325.000000</td>\n",
              "      <td>200.000000</td>\n",
              "      <td>220.000000</td>\n",
              "      <td>320.000000</td>\n",
              "      <td>147.000000</td>\n",
              "      <td>231.000000</td>\n",
              "      <td>176.000000</td>\n",
              "      <td>184.000000</td>\n",
              "      <td>195.000000</td>\n",
              "      <td>158.000000</td>\n",
              "      <td>172.000000</td>\n",
              "      <td>80.000000</td>\n",
              "      <td>138.000000</td>\n",
              "      <td>189.000000</td>\n",
              "      <td>225.000000</td>\n",
              "      <td>227.000000</td>\n",
              "      <td>194.000000</td>\n",
              "      <td>190.000000</td>\n",
              "      <td>213.000000</td>\n",
              "      <td>317.000000</td>\n",
              "      <td>277.000000</td>\n",
              "      <td>183.000000</td>\n",
              "      <td>164.000000</td>\n",
              "      <td>145.000000</td>\n",
              "      <td>174.000000</td>\n",
              "      <td>266.000000</td>\n",
              "      <td>309.000000</td>\n",
              "      <td>310.000000</td>\n",
              "      <td>207.000000</td>\n",
              "      <td>160.000000</td>\n",
              "      <td>220.000000</td>\n",
              "      <td>324.000000</td>\n",
              "      <td>147.000000</td>\n",
              "      <td>187.000000</td>\n",
              "      <td>107.000000</td>\n",
              "      <td>...</td>\n",
              "      <td>241.000000</td>\n",
              "      <td>206.000000</td>\n",
              "      <td>122.000000</td>\n",
              "      <td>281.000000</td>\n",
              "      <td>255.000000</td>\n",
              "      <td>176.000000</td>\n",
              "      <td>169.000000</td>\n",
              "      <td>219.000000</td>\n",
              "      <td>125.000000</td>\n",
              "      <td>186.000000</td>\n",
              "      <td>130.000000</td>\n",
              "      <td>202.000000</td>\n",
              "      <td>203.000000</td>\n",
              "      <td>188.000000</td>\n",
              "      <td>184.000000</td>\n",
              "      <td>239.000000</td>\n",
              "      <td>208.000000</td>\n",
              "      <td>213.000000</td>\n",
              "      <td>261.000000</td>\n",
              "      <td>172.000000</td>\n",
              "      <td>130.000000</td>\n",
              "      <td>117.000000</td>\n",
              "      <td>185.000000</td>\n",
              "      <td>244.000000</td>\n",
              "      <td>153.000000</td>\n",
              "      <td>211.000000</td>\n",
              "      <td>120.000000</td>\n",
              "      <td>379.000000</td>\n",
              "      <td>153.000000</td>\n",
              "      <td>145.000000</td>\n",
              "      <td>94.000000</td>\n",
              "      <td>179.000000</td>\n",
              "      <td>192.000000</td>\n",
              "      <td>411.000000</td>\n",
              "      <td>355.000000</td>\n",
              "      <td>625.000000</td>\n",
              "      <td>295.000000</td>\n",
              "      <td>168.000000</td>\n",
              "      <td>367.000000</td>\n",
              "      <td>1.000000</td>\n",
              "    </tr>\n",
              "  </tbody>\n",
              "</table>\n",
              "<p>8 rows × 168 columns</p>\n",
              "</div>"
            ],
            "text/plain": [
              "               ID           f1  ...         f166        class\n",
              "count  6598.00000  6598.000000  ...  6598.000000  6598.000000\n",
              "mean   3299.50000    58.945135  ...    41.770233     0.154138\n",
              "std    1904.82287    53.249007  ...    94.116085     0.361108\n",
              "min       1.00000   -31.000000  ...  -471.000000     0.000000\n",
              "25%    1650.25000    37.000000  ...    -9.000000     0.000000\n",
              "50%    3299.50000    44.000000  ...    27.000000     0.000000\n",
              "75%    4948.75000    53.000000  ...   119.000000     0.000000\n",
              "max    6598.00000   292.000000  ...   367.000000     1.000000\n",
              "\n",
              "[8 rows x 168 columns]"
            ]
          },
          "metadata": {
            "tags": []
          },
          "execution_count": 223
        }
      ]
    },
    {
      "cell_type": "code",
      "metadata": {
        "colab": {
          "base_uri": "https://localhost:8080/",
          "height": 166
        },
        "id": "iamZ3pZ7Pv7m",
        "outputId": "ae6b5078-adb5-4cd1-f837-011417bad988"
      },
      "source": [
        "data.describe(exclude = 'int')"
      ],
      "execution_count": 224,
      "outputs": [
        {
          "output_type": "execute_result",
          "data": {
            "text/html": [
              "<div>\n",
              "<style scoped>\n",
              "    .dataframe tbody tr th:only-of-type {\n",
              "        vertical-align: middle;\n",
              "    }\n",
              "\n",
              "    .dataframe tbody tr th {\n",
              "        vertical-align: top;\n",
              "    }\n",
              "\n",
              "    .dataframe thead th {\n",
              "        text-align: right;\n",
              "    }\n",
              "</style>\n",
              "<table border=\"1\" class=\"dataframe\">\n",
              "  <thead>\n",
              "    <tr style=\"text-align: right;\">\n",
              "      <th></th>\n",
              "      <th>molecule_name</th>\n",
              "      <th>conformation_name</th>\n",
              "    </tr>\n",
              "  </thead>\n",
              "  <tbody>\n",
              "    <tr>\n",
              "      <th>count</th>\n",
              "      <td>6598</td>\n",
              "      <td>6598</td>\n",
              "    </tr>\n",
              "    <tr>\n",
              "      <th>unique</th>\n",
              "      <td>102</td>\n",
              "      <td>6598</td>\n",
              "    </tr>\n",
              "    <tr>\n",
              "      <th>top</th>\n",
              "      <td>NON-MUSK-j146</td>\n",
              "      <td>jp10_1+5</td>\n",
              "    </tr>\n",
              "    <tr>\n",
              "      <th>freq</th>\n",
              "      <td>1044</td>\n",
              "      <td>1</td>\n",
              "    </tr>\n",
              "  </tbody>\n",
              "</table>\n",
              "</div>"
            ],
            "text/plain": [
              "        molecule_name conformation_name\n",
              "count            6598              6598\n",
              "unique            102              6598\n",
              "top     NON-MUSK-j146          jp10_1+5\n",
              "freq             1044                 1"
            ]
          },
          "metadata": {
            "tags": []
          },
          "execution_count": 224
        }
      ]
    },
    {
      "cell_type": "markdown",
      "metadata": {
        "id": "vcx5QAKwDtow"
      },
      "source": [
        "### **Observations:**\n",
        "* This confirms that our dataset is successfully loaded.\n",
        "* The dataset consists of 6598 training records and 170 features(including target variables)\n",
        "* Out of 170 features there are only 2 object type features and rest are numeric type.\n",
        "* Since the 'class' feature is a target variable, therefore it must be a categorical feauture. So convert that into categorical type for analysis work.\n",
        "* The dataset is not balanced.\n",
        "* There are total 102 unique molecule names in the dataset.\n",
        "\n",
        "### **Inferences**\n",
        "* Convert the data type of 'class' feature into object type because it is categorical feature.\n",
        "* Since the dataset is not balanced, make it balanced using sampling techniques during preprocessing.\n"
      ]
    },
    {
      "cell_type": "markdown",
      "metadata": {
        "id": "h7CX51V__Alh"
      },
      "source": [
        "### **Checking for missing Values present in the dataset.**\n"
      ]
    },
    {
      "cell_type": "code",
      "metadata": {
        "colab": {
          "base_uri": "https://localhost:8080/"
        },
        "id": "nN7zlb1--8Qa",
        "outputId": "960a3cfa-5d8f-45a7-8910-4ba0bae6c329"
      },
      "source": [
        "data.isnull().sum()"
      ],
      "execution_count": 225,
      "outputs": [
        {
          "output_type": "execute_result",
          "data": {
            "text/plain": [
              "ID                   0\n",
              "molecule_name        0\n",
              "conformation_name    0\n",
              "f1                   0\n",
              "f2                   0\n",
              "                    ..\n",
              "f163                 0\n",
              "f164                 0\n",
              "f165                 0\n",
              "f166                 0\n",
              "class                0\n",
              "Length: 170, dtype: int64"
            ]
          },
          "metadata": {
            "tags": []
          },
          "execution_count": 225
        }
      ]
    },
    {
      "cell_type": "code",
      "metadata": {
        "colab": {
          "base_uri": "https://localhost:8080/"
        },
        "id": "kryf90l-_LWw",
        "outputId": "d595ede9-81d8-45e1-cdea-37067474e614"
      },
      "source": [
        "data.isnull().any().sum()"
      ],
      "execution_count": 226,
      "outputs": [
        {
          "output_type": "execute_result",
          "data": {
            "text/plain": [
              "0"
            ]
          },
          "metadata": {
            "tags": []
          },
          "execution_count": 226
        }
      ]
    },
    {
      "cell_type": "markdown",
      "metadata": {
        "id": "4ch_bm1c_ViI"
      },
      "source": [
        "### **Observation:**\n",
        "* Now it confirms that our dataset does not contains any missing values."
      ]
    },
    {
      "cell_type": "code",
      "metadata": {
        "colab": {
          "base_uri": "https://localhost:8080/"
        },
        "id": "yb_1ljj-C7fH",
        "outputId": "b34b36c1-afc9-4f5b-8005-bd259ee69b4e"
      },
      "source": [
        "data['molecule_name'].value_counts()"
      ],
      "execution_count": 227,
      "outputs": [
        {
          "output_type": "execute_result",
          "data": {
            "text/plain": [
              "NON-MUSK-j146    1044\n",
              "NON-MUSK-252     1010\n",
              "NON-MUSK-j147     911\n",
              "NON-MUSK-f146     383\n",
              "NON-MUSK-288      344\n",
              "                 ... \n",
              "NON-MUSK-295        2\n",
              "MUSK-300            2\n",
              "NON-MUSK-j130       2\n",
              "NON-MUSK-j96        1\n",
              "NON-MUSK-j97        1\n",
              "Name: molecule_name, Length: 102, dtype: int64"
            ]
          },
          "metadata": {
            "tags": []
          },
          "execution_count": 227
        }
      ]
    },
    {
      "cell_type": "code",
      "metadata": {
        "colab": {
          "base_uri": "https://localhost:8080/"
        },
        "id": "dQvKnYBwDgF6",
        "outputId": "1867e789-248b-47e5-ec7f-fe67ffb91a22"
      },
      "source": [
        "data['conformation_name'].value_counts()\n"
      ],
      "execution_count": 228,
      "outputs": [
        {
          "output_type": "execute_result",
          "data": {
            "text/plain": [
              "jp10_1+5      1\n",
              "207_1+31      1\n",
              "228_2+1       1\n",
              "j147_4+5      1\n",
              "216_1+65      1\n",
              "             ..\n",
              "287_1+7       1\n",
              "192_1+284     1\n",
              "j146_1+196    1\n",
              "j147_2+189    1\n",
              "j146_1+116    1\n",
              "Name: conformation_name, Length: 6598, dtype: int64"
            ]
          },
          "metadata": {
            "tags": []
          },
          "execution_count": 228
        }
      ]
    },
    {
      "cell_type": "markdown",
      "metadata": {
        "id": "383DzOxjDFIv"
      },
      "source": [
        "### **Inferences**\n",
        "* Since there are only 102 unique molecule names. So this feature must have to handle during preprocessing by applying some encoding technique.\n",
        "* Conformation name is a unique feautre and can be used a primary key because it has different values for all 6598 training records."
      ]
    },
    {
      "cell_type": "code",
      "metadata": {
        "colab": {
          "base_uri": "https://localhost:8080/"
        },
        "id": "WTCQSAKFiU0T",
        "outputId": "3762ca4d-f5db-48b8-8e85-2dda7d6654c4"
      },
      "source": [
        "data.shape"
      ],
      "execution_count": 229,
      "outputs": [
        {
          "output_type": "execute_result",
          "data": {
            "text/plain": [
              "(6598, 170)"
            ]
          },
          "metadata": {
            "tags": []
          },
          "execution_count": 229
        }
      ]
    },
    {
      "cell_type": "markdown",
      "metadata": {
        "id": "hgipNvykRH11"
      },
      "source": [
        "## **4. Feature Engineering and Preprocessing**"
      ]
    },
    {
      "cell_type": "markdown",
      "metadata": {
        "id": "qgiMQSiZEO5t"
      },
      "source": [
        "## **4.1 Handling Categorical Feature.**\n",
        "### **Categorical features** present in our dataset are\n",
        "1. ID\n",
        "2. Molecule Name\n",
        "3. Conformation Name.\n",
        "Now in this section we have to handle these features in order to build model for prediction.<br>\n",
        "* During varaible identification and typecasting section we have observed that ID and conformation name has all unique values. So we can delete the ID column and set primary key as Conformation name\n",
        "\n",
        "* Molecule name has 102 unique values. Therefore this caegorical feature can be used to generate some new feature by using encoding techniques.\n",
        "1. Applying frequency encoding.\n",
        "2. Applying target encoding.\n",
        "\n",
        "Now lets start handle these features."
      ]
    },
    {
      "cell_type": "code",
      "metadata": {
        "id": "sX99-svsDeLf"
      },
      "source": [
        "# Frequency Encoding\n",
        "def frequency_encoding(data,cat):\n",
        "  freq_enc = data.groupby(cat).size()/len(data)\n",
        "  return  data[cat].map(freq_enc)\n"
      ],
      "execution_count": 230,
      "outputs": []
    },
    {
      "cell_type": "code",
      "metadata": {
        "id": "PG5Z8A3KGTJa"
      },
      "source": [
        "# Target encoding\n",
        "def mean_encoding(data,tar,cat):\n",
        "  data[tar] = data[tar].astype('int')\n",
        "  mean_enc = data.groupby(cat)[tar].mean()\n",
        "  return data[cat].map(mean_enc)"
      ],
      "execution_count": 231,
      "outputs": []
    },
    {
      "cell_type": "code",
      "metadata": {
        "id": "6FJ3YF51GAK3"
      },
      "source": [
        "# Generating new feautures from molecule_name feature by using frequency encoding and mean_encoding techniques\n",
        "data['molecule_name_freq'] = frequency_encoding(data, 'molecule_name')\n",
        "data['molecule_name_mean_enc'] = mean_encoding(data,'class','molecule_name')"
      ],
      "execution_count": 232,
      "outputs": []
    },
    {
      "cell_type": "code",
      "metadata": {
        "colab": {
          "base_uri": "https://localhost:8080/"
        },
        "id": "Md91ORrRIMsb",
        "outputId": "670144b2-bfd8-45d7-d56c-8979c5c1756f"
      },
      "source": [
        "data['molecule_name_mean_enc'].value_counts()"
      ],
      "execution_count": 233,
      "outputs": [
        {
          "output_type": "execute_result",
          "data": {
            "text/plain": [
              "0    5581\n",
              "1    1017\n",
              "Name: molecule_name_mean_enc, dtype: int64"
            ]
          },
          "metadata": {
            "tags": []
          },
          "execution_count": 233
        }
      ]
    },
    {
      "cell_type": "code",
      "metadata": {
        "colab": {
          "base_uri": "https://localhost:8080/"
        },
        "id": "muWbLG-MITSK",
        "outputId": "20dadc53-1837-4df7-bdec-ac56f8c82995"
      },
      "source": [
        "data['class'].value_counts()"
      ],
      "execution_count": 234,
      "outputs": [
        {
          "output_type": "execute_result",
          "data": {
            "text/plain": [
              "0    5581\n",
              "1    1017\n",
              "Name: class, dtype: int64"
            ]
          },
          "metadata": {
            "tags": []
          },
          "execution_count": 234
        }
      ]
    },
    {
      "cell_type": "code",
      "metadata": {
        "colab": {
          "base_uri": "https://localhost:8080/",
          "height": 481
        },
        "id": "l5BGlxCdTV_V",
        "outputId": "8f43160d-af02-47d2-859a-beb145f50ba9"
      },
      "source": [
        "plt.figure(figsize = (14,6))\n",
        "plt.subplot(1,2,1)\n",
        "sns.countplot(x= 'class', data= data)\n",
        "plt.title('nunique: {}\\n Value Count:\\n {}'.format(data['class'].nunique(),\n",
        "                                                 data['class'].value_counts()))\n",
        "\n",
        "plt.subplot(1,2,2)\n",
        "sns.countplot(x= 'molecule_name_mean_enc', data= data)\n",
        "plt.title('nunique: {}\\n Value Count:\\n {}'.format(data['molecule_name_mean_enc'].nunique(),\n",
        "                                                 data['molecule_name_mean_enc'].value_counts()))"
      ],
      "execution_count": 235,
      "outputs": [
        {
          "output_type": "execute_result",
          "data": {
            "text/plain": [
              "Text(0.5, 1.0, 'nunique: 2\\n Value Count:\\n 0    5581\\n1    1017\\nName: molecule_name_mean_enc, dtype: int64')"
            ]
          },
          "metadata": {
            "tags": []
          },
          "execution_count": 235
        },
        {
          "output_type": "display_data",
          "data": {
            "image/png": "[encoded data removed]",
            "text/plain": [
              "<Figure size 1008x432 with 2 Axes>"
            ]
          },
          "metadata": {
            "tags": [],
            "needs_background": "light"
          }
        }
      ]
    },
    {
      "cell_type": "markdown",
      "metadata": {
        "id": "gvVtIzTaTOc8"
      },
      "source": [
        "Observation: \n",
        "* If we closely observe both figures than it shows the count of both same. It means there is some relation ship between molecule name and the class.<br>\n",
        "The relationship is that if the molecule_name starts with 'NON' the class is 0 else 1."
      ]
    },
    {
      "cell_type": "markdown",
      "metadata": {
        "id": "hz4s14MyA4On"
      },
      "source": [
        "## **4.2 Scaling and Normalizing the dataset**\n",
        "In this section we will noramlize the dataset because this will help our gradient descent to converge fast otherwise it will take much more time or may not converge optimally due to the varying range of data."
      ]
    },
    {
      "cell_type": "code",
      "metadata": {
        "id": "xJXCP8p8lNlH"
      },
      "source": [
        "corr_matrix = data.corr().abs()\n",
        "\n",
        "# upper triangle of correlation matrix\n",
        "upper_traingle = corr_matrix.where(np.triu(np.ones(corr_matrix.shape), k=1).astype(np.bool))\n",
        "\n",
        "# Find index of feature columns with correlation greater than 0.93\n",
        "drop = [column for column in upper_traingle.columns if any(upper_traingle[column] > 0.92)]"
      ],
      "execution_count": 236,
      "outputs": []
    },
    {
      "cell_type": "code",
      "metadata": {
        "colab": {
          "base_uri": "https://localhost:8080/"
        },
        "id": "1DpK94P_liWl",
        "outputId": "196fb0a7-04bf-4169-b0f3-1d7d75278832"
      },
      "source": [
        "df = data.drop(columns = drop)\n",
        "df.shape"
      ],
      "execution_count": 237,
      "outputs": [
        {
          "output_type": "execute_result",
          "data": {
            "text/plain": [
              "(6598, 118)"
            ]
          },
          "metadata": {
            "tags": []
          },
          "execution_count": 237
        }
      ]
    },
    {
      "cell_type": "code",
      "metadata": {
        "id": "z2Uk16AA_Tv2",
        "colab": {
          "base_uri": "https://localhost:8080/",
          "height": 245
        },
        "outputId": "19f2fa4c-d3d4-43d0-c87c-cdd40c850f08"
      },
      "source": [
        "def normlize(data):\n",
        "    for col in data.columns[3:172]:\n",
        "        data[col] = (data[col]/max(data[col]))\n",
        "    return data\n",
        "\n",
        "df = normlize(df)\n",
        "df.head()\n"
      ],
      "execution_count": 238,
      "outputs": [
        {
          "output_type": "execute_result",
          "data": {
            "text/html": [
              "<div>\n",
              "<style scoped>\n",
              "    .dataframe tbody tr th:only-of-type {\n",
              "        vertical-align: middle;\n",
              "    }\n",
              "\n",
              "    .dataframe tbody tr th {\n",
              "        vertical-align: top;\n",
              "    }\n",
              "\n",
              "    .dataframe thead th {\n",
              "        text-align: right;\n",
              "    }\n",
              "</style>\n",
              "<table border=\"1\" class=\"dataframe\">\n",
              "  <thead>\n",
              "    <tr style=\"text-align: right;\">\n",
              "      <th></th>\n",
              "      <th>ID</th>\n",
              "      <th>molecule_name</th>\n",
              "      <th>conformation_name</th>\n",
              "      <th>f1</th>\n",
              "      <th>f2</th>\n",
              "      <th>f3</th>\n",
              "      <th>f4</th>\n",
              "      <th>f5</th>\n",
              "      <th>f6</th>\n",
              "      <th>f7</th>\n",
              "      <th>f8</th>\n",
              "      <th>f9</th>\n",
              "      <th>f10</th>\n",
              "      <th>f11</th>\n",
              "      <th>f12</th>\n",
              "      <th>f13</th>\n",
              "      <th>f14</th>\n",
              "      <th>f16</th>\n",
              "      <th>f17</th>\n",
              "      <th>f18</th>\n",
              "      <th>f19</th>\n",
              "      <th>f20</th>\n",
              "      <th>f21</th>\n",
              "      <th>f23</th>\n",
              "      <th>f24</th>\n",
              "      <th>f25</th>\n",
              "      <th>f26</th>\n",
              "      <th>f27</th>\n",
              "      <th>f28</th>\n",
              "      <th>f29</th>\n",
              "      <th>f30</th>\n",
              "      <th>f31</th>\n",
              "      <th>f32</th>\n",
              "      <th>f33</th>\n",
              "      <th>f35</th>\n",
              "      <th>f36</th>\n",
              "      <th>f37</th>\n",
              "      <th>f38</th>\n",
              "      <th>f39</th>\n",
              "      <th>f40</th>\n",
              "      <th>...</th>\n",
              "      <th>f97</th>\n",
              "      <th>f102</th>\n",
              "      <th>f106</th>\n",
              "      <th>f107</th>\n",
              "      <th>f108</th>\n",
              "      <th>f116</th>\n",
              "      <th>f120</th>\n",
              "      <th>f122</th>\n",
              "      <th>f124</th>\n",
              "      <th>f125</th>\n",
              "      <th>f126</th>\n",
              "      <th>f129</th>\n",
              "      <th>f131</th>\n",
              "      <th>f132</th>\n",
              "      <th>f133</th>\n",
              "      <th>f134</th>\n",
              "      <th>f136</th>\n",
              "      <th>f137</th>\n",
              "      <th>f138</th>\n",
              "      <th>f140</th>\n",
              "      <th>f145</th>\n",
              "      <th>f146</th>\n",
              "      <th>f147</th>\n",
              "      <th>f148</th>\n",
              "      <th>f151</th>\n",
              "      <th>f154</th>\n",
              "      <th>f155</th>\n",
              "      <th>f156</th>\n",
              "      <th>f157</th>\n",
              "      <th>f158</th>\n",
              "      <th>f159</th>\n",
              "      <th>f160</th>\n",
              "      <th>f161</th>\n",
              "      <th>f162</th>\n",
              "      <th>f163</th>\n",
              "      <th>f164</th>\n",
              "      <th>f165</th>\n",
              "      <th>f166</th>\n",
              "      <th>class</th>\n",
              "      <th>molecule_name_freq</th>\n",
              "    </tr>\n",
              "  </thead>\n",
              "  <tbody>\n",
              "    <tr>\n",
              "      <th>0</th>\n",
              "      <td>1</td>\n",
              "      <td>MUSK-211</td>\n",
              "      <td>211_1+1</td>\n",
              "      <td>0.157534</td>\n",
              "      <td>-1.136842</td>\n",
              "      <td>-0.740741</td>\n",
              "      <td>-0.428571</td>\n",
              "      <td>-0.36</td>\n",
              "      <td>0.245</td>\n",
              "      <td>0.172727</td>\n",
              "      <td>-0.503125</td>\n",
              "      <td>-0.054422</td>\n",
              "      <td>0.021645</td>\n",
              "      <td>-1.835227</td>\n",
              "      <td>-1.195652</td>\n",
              "      <td>-0.579487</td>\n",
              "      <td>-1.892405</td>\n",
              "      <td>-3.8375</td>\n",
              "      <td>-0.224638</td>\n",
              "      <td>-0.560847</td>\n",
              "      <td>-1.008889</td>\n",
              "      <td>-0.185022</td>\n",
              "      <td>-0.304124</td>\n",
              "      <td>-0.314554</td>\n",
              "      <td>0.596215</td>\n",
              "      <td>0.292419</td>\n",
              "      <td>0.092896</td>\n",
              "      <td>-0.164634</td>\n",
              "      <td>-0.613793</td>\n",
              "      <td>-0.385057</td>\n",
              "      <td>0.394737</td>\n",
              "      <td>-0.375405</td>\n",
              "      <td>0.400000</td>\n",
              "      <td>-0.512077</td>\n",
              "      <td>-0.545455</td>\n",
              "      <td>0.194444</td>\n",
              "      <td>-1.122449</td>\n",
              "      <td>0.213904</td>\n",
              "      <td>-0.252336</td>\n",
              "      <td>0.350515</td>\n",
              "      <td>...</td>\n",
              "      <td>-0.321212</td>\n",
              "      <td>0.425287</td>\n",
              "      <td>-1.084906</td>\n",
              "      <td>-1.044025</td>\n",
              "      <td>-0.209581</td>\n",
              "      <td>-0.019763</td>\n",
              "      <td>-0.256579</td>\n",
              "      <td>0.279070</td>\n",
              "      <td>-0.471366</td>\n",
              "      <td>0.267559</td>\n",
              "      <td>0.081169</td>\n",
              "      <td>-0.553398</td>\n",
              "      <td>0.160142</td>\n",
              "      <td>-0.462745</td>\n",
              "      <td>-0.426136</td>\n",
              "      <td>-1.076923</td>\n",
              "      <td>-0.152</td>\n",
              "      <td>0.064516</td>\n",
              "      <td>-0.100000</td>\n",
              "      <td>-0.586207</td>\n",
              "      <td>-0.830986</td>\n",
              "      <td>-0.386973</td>\n",
              "      <td>-0.674419</td>\n",
              "      <td>-0.107692</td>\n",
              "      <td>-0.331967</td>\n",
              "      <td>-0.366667</td>\n",
              "      <td>0.337731</td>\n",
              "      <td>0.019608</td>\n",
              "      <td>-1.682759</td>\n",
              "      <td>-3.276596</td>\n",
              "      <td>0.290503</td>\n",
              "      <td>-0.036458</td>\n",
              "      <td>0.094891</td>\n",
              "      <td>0.354930</td>\n",
              "      <td>0.2496</td>\n",
              "      <td>-0.169492</td>\n",
              "      <td>-0.666667</td>\n",
              "      <td>0.261580</td>\n",
              "      <td>1.0</td>\n",
              "      <td>0.018199</td>\n",
              "    </tr>\n",
              "    <tr>\n",
              "      <th>1</th>\n",
              "      <td>2</td>\n",
              "      <td>MUSK-211</td>\n",
              "      <td>211_1+10</td>\n",
              "      <td>0.140411</td>\n",
              "      <td>-1.978947</td>\n",
              "      <td>-1.790123</td>\n",
              "      <td>0.136646</td>\n",
              "      <td>-0.36</td>\n",
              "      <td>-0.030</td>\n",
              "      <td>0.259091</td>\n",
              "      <td>-0.534375</td>\n",
              "      <td>-0.265306</td>\n",
              "      <td>-0.432900</td>\n",
              "      <td>-1.812500</td>\n",
              "      <td>-0.603261</td>\n",
              "      <td>-1.169231</td>\n",
              "      <td>-1.778481</td>\n",
              "      <td>-3.7500</td>\n",
              "      <td>0.391304</td>\n",
              "      <td>-0.788360</td>\n",
              "      <td>-0.435556</td>\n",
              "      <td>-0.863436</td>\n",
              "      <td>-0.139175</td>\n",
              "      <td>0.009390</td>\n",
              "      <td>0.236593</td>\n",
              "      <td>0.176895</td>\n",
              "      <td>-0.185792</td>\n",
              "      <td>0.274390</td>\n",
              "      <td>-0.627586</td>\n",
              "      <td>0.183908</td>\n",
              "      <td>0.357143</td>\n",
              "      <td>-0.375405</td>\n",
              "      <td>0.274194</td>\n",
              "      <td>-0.111111</td>\n",
              "      <td>-0.263636</td>\n",
              "      <td>0.188272</td>\n",
              "      <td>-1.163265</td>\n",
              "      <td>0.010695</td>\n",
              "      <td>-1.345794</td>\n",
              "      <td>0.195876</td>\n",
              "      <td>...</td>\n",
              "      <td>-0.260606</td>\n",
              "      <td>0.393678</td>\n",
              "      <td>-1.235849</td>\n",
              "      <td>-1.037736</td>\n",
              "      <td>-0.700599</td>\n",
              "      <td>0.193676</td>\n",
              "      <td>0.144737</td>\n",
              "      <td>0.507752</td>\n",
              "      <td>-0.339207</td>\n",
              "      <td>-0.033445</td>\n",
              "      <td>-0.055195</td>\n",
              "      <td>-0.101942</td>\n",
              "      <td>0.113879</td>\n",
              "      <td>-0.501961</td>\n",
              "      <td>-0.409091</td>\n",
              "      <td>-0.733728</td>\n",
              "      <td>-0.752</td>\n",
              "      <td>0.284946</td>\n",
              "      <td>-0.607692</td>\n",
              "      <td>-0.172414</td>\n",
              "      <td>-0.830986</td>\n",
              "      <td>-0.390805</td>\n",
              "      <td>-0.703488</td>\n",
              "      <td>-0.507692</td>\n",
              "      <td>-0.168033</td>\n",
              "      <td>-0.525000</td>\n",
              "      <td>0.303430</td>\n",
              "      <td>-0.032680</td>\n",
              "      <td>-1.620690</td>\n",
              "      <td>-0.627660</td>\n",
              "      <td>-0.011173</td>\n",
              "      <td>0.270833</td>\n",
              "      <td>0.250608</td>\n",
              "      <td>0.383099</td>\n",
              "      <td>0.2704</td>\n",
              "      <td>-0.206780</td>\n",
              "      <td>-0.809524</td>\n",
              "      <td>0.215259</td>\n",
              "      <td>1.0</td>\n",
              "      <td>0.018199</td>\n",
              "    </tr>\n",
              "    <tr>\n",
              "      <th>2</th>\n",
              "      <td>3</td>\n",
              "      <td>MUSK-211</td>\n",
              "      <td>211_1+11</td>\n",
              "      <td>0.157534</td>\n",
              "      <td>-2.042105</td>\n",
              "      <td>-1.790123</td>\n",
              "      <td>0.173913</td>\n",
              "      <td>-0.36</td>\n",
              "      <td>0.365</td>\n",
              "      <td>0.259091</td>\n",
              "      <td>-0.525000</td>\n",
              "      <td>-0.265306</td>\n",
              "      <td>-0.095238</td>\n",
              "      <td>-1.812500</td>\n",
              "      <td>-0.603261</td>\n",
              "      <td>-0.533333</td>\n",
              "      <td>-1.791139</td>\n",
              "      <td>-3.7875</td>\n",
              "      <td>0.376812</td>\n",
              "      <td>-0.804233</td>\n",
              "      <td>-0.431111</td>\n",
              "      <td>-0.991189</td>\n",
              "      <td>-0.144330</td>\n",
              "      <td>0.009390</td>\n",
              "      <td>0.564669</td>\n",
              "      <td>0.176895</td>\n",
              "      <td>-0.180328</td>\n",
              "      <td>0.280488</td>\n",
              "      <td>-0.606897</td>\n",
              "      <td>0.126437</td>\n",
              "      <td>0.296992</td>\n",
              "      <td>-0.375405</td>\n",
              "      <td>0.061290</td>\n",
              "      <td>-0.053140</td>\n",
              "      <td>-0.172727</td>\n",
              "      <td>0.219136</td>\n",
              "      <td>-1.190476</td>\n",
              "      <td>0.016043</td>\n",
              "      <td>-1.205607</td>\n",
              "      <td>0.190722</td>\n",
              "      <td>...</td>\n",
              "      <td>-0.060606</td>\n",
              "      <td>0.350575</td>\n",
              "      <td>-1.250000</td>\n",
              "      <td>-1.056604</td>\n",
              "      <td>-0.712575</td>\n",
              "      <td>0.047431</td>\n",
              "      <td>0.157895</td>\n",
              "      <td>0.472868</td>\n",
              "      <td>-0.158590</td>\n",
              "      <td>-0.431438</td>\n",
              "      <td>0.061688</td>\n",
              "      <td>0.000000</td>\n",
              "      <td>-0.053381</td>\n",
              "      <td>-0.505882</td>\n",
              "      <td>-0.420455</td>\n",
              "      <td>-0.739645</td>\n",
              "      <td>-0.744</td>\n",
              "      <td>0.284946</td>\n",
              "      <td>-0.553846</td>\n",
              "      <td>-0.162562</td>\n",
              "      <td>-0.830986</td>\n",
              "      <td>-0.390805</td>\n",
              "      <td>-0.691860</td>\n",
              "      <td>-0.507692</td>\n",
              "      <td>-0.168033</td>\n",
              "      <td>-1.166667</td>\n",
              "      <td>0.203166</td>\n",
              "      <td>-1.065359</td>\n",
              "      <td>-1.641379</td>\n",
              "      <td>-1.425532</td>\n",
              "      <td>-0.860335</td>\n",
              "      <td>0.296875</td>\n",
              "      <td>0.347932</td>\n",
              "      <td>0.400000</td>\n",
              "      <td>0.2640</td>\n",
              "      <td>-0.227119</td>\n",
              "      <td>-0.863095</td>\n",
              "      <td>0.106267</td>\n",
              "      <td>1.0</td>\n",
              "      <td>0.018199</td>\n",
              "    </tr>\n",
              "    <tr>\n",
              "      <th>3</th>\n",
              "      <td>4</td>\n",
              "      <td>MUSK-211</td>\n",
              "      <td>211_1+12</td>\n",
              "      <td>0.140411</td>\n",
              "      <td>-1.978947</td>\n",
              "      <td>-1.790123</td>\n",
              "      <td>0.136646</td>\n",
              "      <td>-0.36</td>\n",
              "      <td>-0.035</td>\n",
              "      <td>0.259091</td>\n",
              "      <td>-0.531250</td>\n",
              "      <td>-0.265306</td>\n",
              "      <td>-0.428571</td>\n",
              "      <td>-1.812500</td>\n",
              "      <td>-0.603261</td>\n",
              "      <td>-1.169231</td>\n",
              "      <td>-1.784810</td>\n",
              "      <td>-3.7625</td>\n",
              "      <td>0.391304</td>\n",
              "      <td>-0.793651</td>\n",
              "      <td>-0.435556</td>\n",
              "      <td>-0.863436</td>\n",
              "      <td>-0.144330</td>\n",
              "      <td>0.009390</td>\n",
              "      <td>0.242902</td>\n",
              "      <td>0.173285</td>\n",
              "      <td>-0.185792</td>\n",
              "      <td>0.280488</td>\n",
              "      <td>-0.627586</td>\n",
              "      <td>0.183908</td>\n",
              "      <td>0.353383</td>\n",
              "      <td>-0.375405</td>\n",
              "      <td>0.270968</td>\n",
              "      <td>-0.111111</td>\n",
              "      <td>-0.263636</td>\n",
              "      <td>0.191358</td>\n",
              "      <td>-1.163265</td>\n",
              "      <td>0.016043</td>\n",
              "      <td>-1.345794</td>\n",
              "      <td>0.195876</td>\n",
              "      <td>...</td>\n",
              "      <td>-0.266667</td>\n",
              "      <td>0.393678</td>\n",
              "      <td>-1.240566</td>\n",
              "      <td>-1.044025</td>\n",
              "      <td>-0.706587</td>\n",
              "      <td>0.197628</td>\n",
              "      <td>0.151316</td>\n",
              "      <td>0.507752</td>\n",
              "      <td>-0.343612</td>\n",
              "      <td>-0.040134</td>\n",
              "      <td>-0.058442</td>\n",
              "      <td>-0.097087</td>\n",
              "      <td>0.113879</td>\n",
              "      <td>-0.501961</td>\n",
              "      <td>-0.414773</td>\n",
              "      <td>-0.739645</td>\n",
              "      <td>-0.744</td>\n",
              "      <td>0.284946</td>\n",
              "      <td>-0.600000</td>\n",
              "      <td>-0.167488</td>\n",
              "      <td>-0.830986</td>\n",
              "      <td>-0.386973</td>\n",
              "      <td>-0.703488</td>\n",
              "      <td>-0.500000</td>\n",
              "      <td>-0.168033</td>\n",
              "      <td>-0.550000</td>\n",
              "      <td>0.303430</td>\n",
              "      <td>-0.045752</td>\n",
              "      <td>-1.627586</td>\n",
              "      <td>-0.638298</td>\n",
              "      <td>-0.022346</td>\n",
              "      <td>0.270833</td>\n",
              "      <td>0.253041</td>\n",
              "      <td>0.383099</td>\n",
              "      <td>0.2688</td>\n",
              "      <td>-0.203390</td>\n",
              "      <td>-0.803571</td>\n",
              "      <td>0.217984</td>\n",
              "      <td>1.0</td>\n",
              "      <td>0.018199</td>\n",
              "    </tr>\n",
              "    <tr>\n",
              "      <th>4</th>\n",
              "      <td>5</td>\n",
              "      <td>MUSK-211</td>\n",
              "      <td>211_1+13</td>\n",
              "      <td>0.140411</td>\n",
              "      <td>-1.978947</td>\n",
              "      <td>-1.790123</td>\n",
              "      <td>0.136646</td>\n",
              "      <td>-0.36</td>\n",
              "      <td>-0.035</td>\n",
              "      <td>0.259091</td>\n",
              "      <td>-0.531250</td>\n",
              "      <td>-0.265306</td>\n",
              "      <td>-0.428571</td>\n",
              "      <td>-1.812500</td>\n",
              "      <td>-0.603261</td>\n",
              "      <td>-1.169231</td>\n",
              "      <td>-1.784810</td>\n",
              "      <td>-3.7625</td>\n",
              "      <td>0.391304</td>\n",
              "      <td>-0.793651</td>\n",
              "      <td>-0.435556</td>\n",
              "      <td>-0.863436</td>\n",
              "      <td>-0.144330</td>\n",
              "      <td>0.009390</td>\n",
              "      <td>0.246057</td>\n",
              "      <td>0.173285</td>\n",
              "      <td>-0.185792</td>\n",
              "      <td>0.280488</td>\n",
              "      <td>-0.627586</td>\n",
              "      <td>0.178161</td>\n",
              "      <td>0.353383</td>\n",
              "      <td>-0.375405</td>\n",
              "      <td>0.270968</td>\n",
              "      <td>-0.111111</td>\n",
              "      <td>-0.263636</td>\n",
              "      <td>0.191358</td>\n",
              "      <td>-1.163265</td>\n",
              "      <td>0.016043</td>\n",
              "      <td>-1.345794</td>\n",
              "      <td>0.195876</td>\n",
              "      <td>...</td>\n",
              "      <td>-0.266667</td>\n",
              "      <td>0.393678</td>\n",
              "      <td>-1.240566</td>\n",
              "      <td>-1.044025</td>\n",
              "      <td>-0.706587</td>\n",
              "      <td>0.197628</td>\n",
              "      <td>0.151316</td>\n",
              "      <td>0.507752</td>\n",
              "      <td>-0.343612</td>\n",
              "      <td>-0.040134</td>\n",
              "      <td>-0.058442</td>\n",
              "      <td>-0.097087</td>\n",
              "      <td>0.113879</td>\n",
              "      <td>-0.501961</td>\n",
              "      <td>-0.414773</td>\n",
              "      <td>-0.739645</td>\n",
              "      <td>-0.744</td>\n",
              "      <td>0.284946</td>\n",
              "      <td>-0.600000</td>\n",
              "      <td>-0.167488</td>\n",
              "      <td>-0.830986</td>\n",
              "      <td>-0.386973</td>\n",
              "      <td>-0.703488</td>\n",
              "      <td>-0.500000</td>\n",
              "      <td>-0.168033</td>\n",
              "      <td>-0.550000</td>\n",
              "      <td>0.303430</td>\n",
              "      <td>-0.052288</td>\n",
              "      <td>-1.627586</td>\n",
              "      <td>-0.638298</td>\n",
              "      <td>-0.022346</td>\n",
              "      <td>0.270833</td>\n",
              "      <td>0.253041</td>\n",
              "      <td>0.385915</td>\n",
              "      <td>0.2688</td>\n",
              "      <td>-0.203390</td>\n",
              "      <td>-0.803571</td>\n",
              "      <td>0.217984</td>\n",
              "      <td>1.0</td>\n",
              "      <td>0.018199</td>\n",
              "    </tr>\n",
              "  </tbody>\n",
              "</table>\n",
              "<p>5 rows × 118 columns</p>\n",
              "</div>"
            ],
            "text/plain": [
              "   ID molecule_name conformation_name  ...      f166  class  molecule_name_freq\n",
              "0   1      MUSK-211           211_1+1  ...  0.261580    1.0            0.018199\n",
              "1   2      MUSK-211          211_1+10  ...  0.215259    1.0            0.018199\n",
              "2   3      MUSK-211          211_1+11  ...  0.106267    1.0            0.018199\n",
              "3   4      MUSK-211          211_1+12  ...  0.217984    1.0            0.018199\n",
              "4   5      MUSK-211          211_1+13  ...  0.217984    1.0            0.018199\n",
              "\n",
              "[5 rows x 118 columns]"
            ]
          },
          "metadata": {
            "tags": []
          },
          "execution_count": 238
        }
      ]
    },
    {
      "cell_type": "markdown",
      "metadata": {
        "id": "VO5woqx8VwzP"
      },
      "source": [
        "## **4.3 Splitting the dataset into train and test dataset.**\n",
        "In this section we are goiing to split the dataset into train and test dataset and setting the test size as 20%.\n",
        "\n",
        "* But before that first drop the row 'ID' and molecule_name and set index as conformation_name."
      ]
    },
    {
      "cell_type": "code",
      "metadata": {
        "id": "0KFF129VCtHC"
      },
      "source": [
        "# Set index as molecule_name and conformation name\n",
        "df.drop(columns = ['ID','molecule_name'], axis = 1, inplace = True)\n",
        "df.set_index(['conformation_name'],inplace = True)"
      ],
      "execution_count": 239,
      "outputs": []
    },
    {
      "cell_type": "code",
      "metadata": {
        "colab": {
          "base_uri": "https://localhost:8080/"
        },
        "id": "ehNbI2ECjRcL",
        "outputId": "7124a25e-b119-44e0-f9c2-66637340db6f"
      },
      "source": [
        "X = df.drop('class', axis = 1).to_numpy()\n",
        "Y = df[df.columns[-1]].to_numpy()\n",
        "print(X.shape,Y.shape)"
      ],
      "execution_count": 240,
      "outputs": [
        {
          "output_type": "stream",
          "text": [
            "(6598, 114) (6598,)\n"
          ],
          "name": "stdout"
        }
      ]
    },
    {
      "cell_type": "code",
      "metadata": {
        "id": "RPVZHduAJo50",
        "colab": {
          "base_uri": "https://localhost:8080/"
        },
        "outputId": "5194c514-2b59-4adc-f9ca-090f10aea859"
      },
      "source": [
        "from sklearn.model_selection import train_test_split\n",
        "X_train, X_test, y_train,y_test = train_test_split(X,Y, test_size = 0.20, random_state = 67)\n",
        "print(X_train.shape, X_test.shape, y_train.shape, y_test.shape)"
      ],
      "execution_count": 241,
      "outputs": [
        {
          "output_type": "stream",
          "text": [
            "(5278, 114) (1320, 114) (5278,) (1320,)\n"
          ],
          "name": "stdout"
        }
      ]
    },
    {
      "cell_type": "code",
      "metadata": {
        "colab": {
          "base_uri": "https://localhost:8080/"
        },
        "id": "slnWjfpphMC8",
        "outputId": "0f0aa179-8b7b-42d9-f78e-88773655b1c2"
      },
      "source": [
        "X_train = np.reshape(X_train,(X_train.shape[0],19,6,1)).astype('float32')\n",
        "X_test= np.reshape(X_test,(X_test.shape[0],19,6,1)).astype('float32')\n",
        "print(X_train.shape,X_test.shape)"
      ],
      "execution_count": 242,
      "outputs": [
        {
          "output_type": "stream",
          "text": [
            "(5278, 19, 6, 1) (1320, 19, 6, 1)\n"
          ],
          "name": "stdout"
        }
      ]
    },
    {
      "cell_type": "code",
      "metadata": {
        "colab": {
          "base_uri": "https://localhost:8080/"
        },
        "id": "lz2NvP9cmLn0",
        "outputId": "67f62eaa-fef2-4090-877d-e05fecbf88ae"
      },
      "source": [
        "import keras\n",
        "y_train = keras.utils.to_categorical(y_train,num_classes = 2)\n",
        "y_test = keras.utils.to_categorical(y_test,num_classes = 2)\n",
        "print(y_train.shape,y_test.shape)"
      ],
      "execution_count": 243,
      "outputs": [
        {
          "output_type": "stream",
          "text": [
            "(5278, 2) (1320, 2)\n"
          ],
          "name": "stdout"
        }
      ]
    },
    {
      "cell_type": "markdown",
      "metadata": {
        "id": "_dtwwBtFYj8y"
      },
      "source": [
        "## **5. Model Building: Convolutional Neural Network**\n",
        "In this section we are going to build a CNN model using different different techniques like different activations, MaxPooling, Dropout, Flatten, Adam Optimization.\n"
      ]
    },
    {
      "cell_type": "code",
      "metadata": {
        "id": "Wce95Ss4Mzlq"
      },
      "source": [
        "from keras.models import Sequential\n",
        "from keras.layers import Dense, Dropout, Flatten,Conv2D, MaxPooling2D\n",
        "\n",
        "model=Sequential()\n",
        "model.add(Conv2D(64,kernel_size=(2,2),activation='relu',input_shape=(19,6,1)))\n",
        "model.add(Conv2D(64,(2,2),activation='relu'))\n",
        "model.add(Conv2D(64,(2,2),activation='relu'))\n",
        "model.add(Conv2D(32,(2,2),activation='relu'))\n",
        "\n",
        "model.add(MaxPooling2D(pool_size=(2,2)))\n",
        "\n",
        "model.add(Dropout(0.20))\n",
        "model.add(Flatten())\n",
        "model.add(Dense(128,activation='relu'))\n",
        "model.add(Dropout(0.5))\n",
        "model.add(Dense(2,activation='sigmoid'))"
      ],
      "execution_count": 244,
      "outputs": []
    },
    {
      "cell_type": "code",
      "metadata": {
        "colab": {
          "base_uri": "https://localhost:8080/"
        },
        "id": "Hrff5wUSmcPq",
        "outputId": "02df4671-a684-4a05-a36e-0c052ceda08b"
      },
      "source": [
        "model.compile(loss='binary_crossentropy',optimizer = 'adam',metrics=['accuracy'])\n",
        "model.summary()"
      ],
      "execution_count": 245,
      "outputs": [
        {
          "output_type": "stream",
          "text": [
            "Model: \"sequential_5\"\n",
            "_________________________________________________________________\n",
            "Layer (type)                 Output Shape              Param #   \n",
            "=================================================================\n",
            "conv2d_20 (Conv2D)           (None, 18, 5, 64)         320       \n",
            "_________________________________________________________________\n",
            "conv2d_21 (Conv2D)           (None, 17, 4, 64)         16448     \n",
            "_________________________________________________________________\n",
            "conv2d_22 (Conv2D)           (None, 16, 3, 64)         16448     \n",
            "_________________________________________________________________\n",
            "conv2d_23 (Conv2D)           (None, 15, 2, 32)         8224      \n",
            "_________________________________________________________________\n",
            "max_pooling2d_5 (MaxPooling2 (None, 7, 1, 32)          0         \n",
            "_________________________________________________________________\n",
            "dropout_10 (Dropout)         (None, 7, 1, 32)          0         \n",
            "_________________________________________________________________\n",
            "flatten_5 (Flatten)          (None, 224)               0         \n",
            "_________________________________________________________________\n",
            "dense_10 (Dense)             (None, 128)               28800     \n",
            "_________________________________________________________________\n",
            "dropout_11 (Dropout)         (None, 128)               0         \n",
            "_________________________________________________________________\n",
            "dense_11 (Dense)             (None, 2)                 258       \n",
            "=================================================================\n",
            "Total params: 70,498\n",
            "Trainable params: 70,498\n",
            "Non-trainable params: 0\n",
            "_________________________________________________________________\n"
          ],
          "name": "stdout"
        }
      ]
    },
    {
      "cell_type": "markdown",
      "metadata": {
        "id": "FiduhnBFsarj"
      },
      "source": [
        "## Observation: \n",
        "* Here we have define our model by applying different techniques. And now we have total 70,498 parameters to train.\n",
        "\n",
        "* Now our next move is to fit our model on training dataset, and we will validate our model using test dataset.\n",
        "\n",
        "<br>\n",
        "Since I have run this model using different different batch sizes and epoches, I found better accuracy on batch_size = 150 and epochs = around 50."
      ]
    },
    {
      "cell_type": "code",
      "metadata": {
        "colab": {
          "base_uri": "https://localhost:8080/"
        },
        "id": "9tvkAWrFmcv6",
        "outputId": "7205752e-79b3-416e-fca0-f26910a57db6"
      },
      "source": [
        "history = model.fit(X_train, y_train, batch_size=150, epochs=50 , validation_data=(X_test, y_test))"
      ],
      "execution_count": 246,
      "outputs": [
        {
          "output_type": "stream",
          "text": [
            "Epoch 1/50\n",
            "36/36 [==============================] - 3s 70ms/step - loss: 0.4728 - accuracy: 0.8236 - val_loss: 0.4086 - val_accuracy: 0.8470\n",
            "Epoch 2/50\n",
            "36/36 [==============================] - 2s 67ms/step - loss: 0.4058 - accuracy: 0.8405 - val_loss: 0.3922 - val_accuracy: 0.8470\n",
            "Epoch 3/50\n",
            "36/36 [==============================] - 2s 66ms/step - loss: 0.3654 - accuracy: 0.8405 - val_loss: 0.3148 - val_accuracy: 0.8470\n",
            "Epoch 4/50\n",
            "36/36 [==============================] - 2s 67ms/step - loss: 0.2986 - accuracy: 0.8524 - val_loss: 0.2240 - val_accuracy: 0.9235\n",
            "Epoch 5/50\n",
            "36/36 [==============================] - 2s 67ms/step - loss: 0.1956 - accuracy: 0.9142 - val_loss: 0.1021 - val_accuracy: 0.9856\n",
            "Epoch 6/50\n",
            "36/36 [==============================] - 2s 67ms/step - loss: 0.0951 - accuracy: 0.9714 - val_loss: 0.0444 - val_accuracy: 0.9894\n",
            "Epoch 7/50\n",
            "36/36 [==============================] - 2s 67ms/step - loss: 0.0502 - accuracy: 0.9841 - val_loss: 0.0276 - val_accuracy: 0.9917\n",
            "Epoch 8/50\n",
            "36/36 [==============================] - 2s 66ms/step - loss: 0.0382 - accuracy: 0.9883 - val_loss: 0.0206 - val_accuracy: 0.9962\n",
            "Epoch 9/50\n",
            "36/36 [==============================] - 2s 66ms/step - loss: 0.0300 - accuracy: 0.9915 - val_loss: 0.0147 - val_accuracy: 0.9955\n",
            "Epoch 10/50\n",
            "36/36 [==============================] - 2s 66ms/step - loss: 0.0254 - accuracy: 0.9926 - val_loss: 0.0095 - val_accuracy: 0.9970\n",
            "Epoch 11/50\n",
            "36/36 [==============================] - 2s 67ms/step - loss: 0.0154 - accuracy: 0.9955 - val_loss: 0.0109 - val_accuracy: 0.9962\n",
            "Epoch 12/50\n",
            "36/36 [==============================] - 2s 67ms/step - loss: 0.0121 - accuracy: 0.9964 - val_loss: 0.0079 - val_accuracy: 0.9962\n",
            "Epoch 13/50\n",
            "36/36 [==============================] - 2s 66ms/step - loss: 0.0090 - accuracy: 0.9979 - val_loss: 0.0037 - val_accuracy: 0.9985\n",
            "Epoch 14/50\n",
            "36/36 [==============================] - 2s 66ms/step - loss: 0.0057 - accuracy: 0.9987 - val_loss: 0.0052 - val_accuracy: 0.9985\n",
            "Epoch 15/50\n",
            "36/36 [==============================] - 2s 67ms/step - loss: 0.0087 - accuracy: 0.9972 - val_loss: 0.0090 - val_accuracy: 0.9970\n",
            "Epoch 16/50\n",
            "36/36 [==============================] - 2s 67ms/step - loss: 0.0080 - accuracy: 0.9975 - val_loss: 0.0277 - val_accuracy: 0.9902\n",
            "Epoch 17/50\n",
            "36/36 [==============================] - 2s 67ms/step - loss: 0.0131 - accuracy: 0.9958 - val_loss: 0.0053 - val_accuracy: 0.9970\n",
            "Epoch 18/50\n",
            "36/36 [==============================] - 2s 68ms/step - loss: 0.0057 - accuracy: 0.9991 - val_loss: 0.0020 - val_accuracy: 1.0000\n",
            "Epoch 19/50\n",
            "36/36 [==============================] - 2s 68ms/step - loss: 0.0068 - accuracy: 0.9979 - val_loss: 0.0045 - val_accuracy: 0.9985\n",
            "Epoch 20/50\n",
            "36/36 [==============================] - 2s 68ms/step - loss: 0.0088 - accuracy: 0.9975 - val_loss: 0.0012 - val_accuracy: 1.0000\n",
            "Epoch 21/50\n",
            "36/36 [==============================] - 2s 67ms/step - loss: 0.0079 - accuracy: 0.9975 - val_loss: 0.0132 - val_accuracy: 0.9955\n",
            "Epoch 22/50\n",
            "36/36 [==============================] - 2s 68ms/step - loss: 0.0096 - accuracy: 0.9973 - val_loss: 0.0238 - val_accuracy: 0.9947\n",
            "Epoch 23/50\n",
            "36/36 [==============================] - 2s 67ms/step - loss: 0.0198 - accuracy: 0.9936 - val_loss: 0.0434 - val_accuracy: 0.9879\n",
            "Epoch 24/50\n",
            "36/36 [==============================] - 2s 66ms/step - loss: 0.0103 - accuracy: 0.9972 - val_loss: 0.0014 - val_accuracy: 1.0000\n",
            "Epoch 25/50\n",
            "36/36 [==============================] - 2s 67ms/step - loss: 0.0068 - accuracy: 0.9983 - val_loss: 0.0058 - val_accuracy: 0.9985\n",
            "Epoch 26/50\n",
            "36/36 [==============================] - 2s 67ms/step - loss: 0.0050 - accuracy: 0.9989 - val_loss: 0.0012 - val_accuracy: 1.0000\n",
            "Epoch 27/50\n",
            "36/36 [==============================] - 2s 67ms/step - loss: 0.0026 - accuracy: 0.9992 - val_loss: 9.9776e-04 - val_accuracy: 1.0000\n",
            "Epoch 28/50\n",
            "36/36 [==============================] - 2s 66ms/step - loss: 0.0032 - accuracy: 0.9992 - val_loss: 3.9951e-04 - val_accuracy: 1.0000\n",
            "Epoch 29/50\n",
            "36/36 [==============================] - 2s 67ms/step - loss: 0.0046 - accuracy: 0.9987 - val_loss: 0.0011 - val_accuracy: 1.0000\n",
            "Epoch 30/50\n",
            "36/36 [==============================] - 2s 67ms/step - loss: 0.0139 - accuracy: 0.9951 - val_loss: 0.0048 - val_accuracy: 0.9985\n",
            "Epoch 31/50\n",
            "36/36 [==============================] - 2s 67ms/step - loss: 0.0149 - accuracy: 0.9947 - val_loss: 0.0024 - val_accuracy: 0.9992\n",
            "Epoch 32/50\n",
            "36/36 [==============================] - 2s 66ms/step - loss: 0.0039 - accuracy: 0.9989 - val_loss: 0.0016 - val_accuracy: 0.9992\n",
            "Epoch 33/50\n",
            "36/36 [==============================] - 2s 67ms/step - loss: 0.0013 - accuracy: 0.9998 - val_loss: 3.9620e-04 - val_accuracy: 1.0000\n",
            "Epoch 34/50\n",
            "36/36 [==============================] - 2s 66ms/step - loss: 0.0018 - accuracy: 0.9996 - val_loss: 0.0050 - val_accuracy: 0.9977\n",
            "Epoch 35/50\n",
            "36/36 [==============================] - 2s 67ms/step - loss: 0.0031 - accuracy: 0.9989 - val_loss: 0.0015 - val_accuracy: 1.0000\n",
            "Epoch 36/50\n",
            "36/36 [==============================] - 2s 67ms/step - loss: 0.0019 - accuracy: 0.9996 - val_loss: 0.0035 - val_accuracy: 0.9977\n",
            "Epoch 37/50\n",
            "36/36 [==============================] - 2s 67ms/step - loss: 6.9957e-04 - accuracy: 1.0000 - val_loss: 2.9643e-04 - val_accuracy: 1.0000\n",
            "Epoch 38/50\n",
            "36/36 [==============================] - 2s 67ms/step - loss: 0.0020 - accuracy: 0.9994 - val_loss: 0.0017 - val_accuracy: 0.9992\n",
            "Epoch 39/50\n",
            "36/36 [==============================] - 2s 67ms/step - loss: 0.0028 - accuracy: 0.9992 - val_loss: 5.9622e-04 - val_accuracy: 1.0000\n",
            "Epoch 40/50\n",
            "36/36 [==============================] - 2s 66ms/step - loss: 0.0019 - accuracy: 0.9992 - val_loss: 8.9737e-04 - val_accuracy: 1.0000\n",
            "Epoch 41/50\n",
            "36/36 [==============================] - 2s 67ms/step - loss: 0.0019 - accuracy: 0.9994 - val_loss: 0.0018 - val_accuracy: 0.9992\n",
            "Epoch 42/50\n",
            "36/36 [==============================] - 2s 67ms/step - loss: 9.8902e-04 - accuracy: 0.9996 - val_loss: 0.0029 - val_accuracy: 0.9985\n",
            "Epoch 43/50\n",
            "36/36 [==============================] - 2s 66ms/step - loss: 0.0023 - accuracy: 0.9987 - val_loss: 0.0017 - val_accuracy: 1.0000\n",
            "Epoch 44/50\n",
            "36/36 [==============================] - 2s 67ms/step - loss: 0.0020 - accuracy: 0.9994 - val_loss: 0.0012 - val_accuracy: 0.9992\n",
            "Epoch 45/50\n",
            "36/36 [==============================] - 2s 67ms/step - loss: 0.0035 - accuracy: 0.9987 - val_loss: 0.0023 - val_accuracy: 0.9985\n",
            "Epoch 46/50\n",
            "36/36 [==============================] - 2s 67ms/step - loss: 0.0027 - accuracy: 0.9991 - val_loss: 0.0031 - val_accuracy: 0.9985\n",
            "Epoch 47/50\n",
            "36/36 [==============================] - 2s 67ms/step - loss: 0.0089 - accuracy: 0.9972 - val_loss: 0.0042 - val_accuracy: 0.9962\n",
            "Epoch 48/50\n",
            "36/36 [==============================] - 2s 67ms/step - loss: 0.0019 - accuracy: 0.9992 - val_loss: 0.0037 - val_accuracy: 0.9985\n",
            "Epoch 49/50\n",
            "36/36 [==============================] - 2s 67ms/step - loss: 0.0035 - accuracy: 0.9989 - val_loss: 8.4113e-04 - val_accuracy: 1.0000\n",
            "Epoch 50/50\n",
            "36/36 [==============================] - 2s 67ms/step - loss: 4.8539e-04 - accuracy: 1.0000 - val_loss: 0.0017 - val_accuracy: 0.9992\n"
          ],
          "name": "stdout"
        }
      ]
    },
    {
      "cell_type": "code",
      "metadata": {
        "colab": {
          "base_uri": "https://localhost:8080/"
        },
        "id": "VZoy6F8pnawv",
        "outputId": "9948fa02-c131-4777-f4ea-eff7e005dd1f"
      },
      "source": [
        "score=model.evaluate(X_test,y_test,verbose=0)\n",
        "print(score)"
      ],
      "execution_count": 247,
      "outputs": [
        {
          "output_type": "stream",
          "text": [
            "[0.0016822442412376404, 0.9992424249649048]\n"
          ],
          "name": "stdout"
        }
      ]
    },
    {
      "cell_type": "markdown",
      "metadata": {
        "id": "tEE1AGyZvcJE"
      },
      "source": [
        "## **6. Model Prediction**\n",
        "In this section we are going to make prediction on the model."
      ]
    },
    {
      "cell_type": "code",
      "metadata": {
        "colab": {
          "base_uri": "https://localhost:8080/"
        },
        "id": "JJo8O4qborFK",
        "outputId": "17ab6964-76eb-4ddc-d772-57c5780cd365"
      },
      "source": [
        "y_pred = model.predict(X_test)\n",
        "y_pred.shape\n"
      ],
      "execution_count": 248,
      "outputs": [
        {
          "output_type": "execute_result",
          "data": {
            "text/plain": [
              "(1320, 2)"
            ]
          },
          "metadata": {
            "tags": []
          },
          "execution_count": 248
        }
      ]
    },
    {
      "cell_type": "code",
      "metadata": {
        "colab": {
          "base_uri": "https://localhost:8080/"
        },
        "id": "xRWJ7d8cpBlw",
        "outputId": "e68f9088-eb75-491e-ae7f-0b3bcaa1b533"
      },
      "source": [
        "def preprocess(m):\n",
        "    a = np.zeros((1320))\n",
        "    for i in range(1320):\n",
        "        if m[i][0]>m[i][1]:\n",
        "            a[i] = 1\n",
        "        else:\n",
        "            a[i] = 0\n",
        "    return a\n",
        "y_predict = preprocess(y_pred)\n",
        "y_predict"
      ],
      "execution_count": 211,
      "outputs": [
        {
          "output_type": "execute_result",
          "data": {
            "text/plain": [
              "array([1., 1., 1., ..., 1., 1., 1.])"
            ]
          },
          "metadata": {
            "tags": []
          },
          "execution_count": 211
        }
      ]
    },
    {
      "cell_type": "code",
      "metadata": {
        "colab": {
          "base_uri": "https://localhost:8080/"
        },
        "id": "ncQbJ0jBrTja",
        "outputId": "51037e11-04e1-4b3d-c318-853d3bbb483c"
      },
      "source": [
        "y_test = preprocess(y_test)\n",
        "print(test.shape,y_predict.shape)"
      ],
      "execution_count": 212,
      "outputs": [
        {
          "output_type": "stream",
          "text": [
            "(1320,) (1320,)\n"
          ],
          "name": "stdout"
        }
      ]
    },
    {
      "cell_type": "markdown",
      "metadata": {
        "id": "ZVGghmdBtMFg"
      },
      "source": [
        "## **7. Model evaluation on test Dataset**"
      ]
    },
    {
      "cell_type": "code",
      "metadata": {
        "colab": {
          "base_uri": "https://localhost:8080/"
        },
        "id": "OzN8xxR1pczo",
        "outputId": "f04c7b62-b270-4788-943f-c2696d6de3ef"
      },
      "source": [
        "from sklearn.metrics import precision_score, recall_score, f1_score, classification_report, accuracy_score\n",
        "acc_score = accuracy_score(y_predict, y_test)\n",
        "prec_score = precision_score(y_predict, y_test)\n",
        "rec_score = recall_score(y_predict, y_test)\n",
        "f_score = f1_score(y_predict, y_test)\n",
        "cls_report = classification_report(y_predict,y_test)\n",
        "\n",
        "print(\"Accuracy:\",acc_score)\n",
        "print(\"f1_score:\",f_score)\n",
        "print(\"Recall:\",rec_score)\n",
        "print(\"Precision:\",prec_score)\n",
        "print(\"Classification Report:\",cls_report)\n",
        "\n",
        "\n",
        "print(\"Validation Loss:\",score[0])\n",
        "print(\"Validation Accuracy:\",score[1])\n"
      ],
      "execution_count": 214,
      "outputs": [
        {
          "output_type": "stream",
          "text": [
            "Accuracy: 0.9992424242424243\n",
            "f1_score: 0.9995525727069351\n",
            "Recall: 1.0\n",
            "Precision: 0.9991055456171736\n",
            "Classification Report:               precision    recall  f1-score   support\n",
            "\n",
            "         0.0       1.00      1.00      1.00       203\n",
            "         1.0       1.00      1.00      1.00      1117\n",
            "\n",
            "    accuracy                           1.00      1320\n",
            "   macro avg       1.00      1.00      1.00      1320\n",
            "weighted avg       1.00      1.00      1.00      1320\n",
            "\n",
            "Validation Loss: 0.0031390718650072813\n",
            "Validation Accuracy: 0.9984848499298096\n"
          ],
          "name": "stdout"
        }
      ]
    },
    {
      "cell_type": "markdown",
      "metadata": {
        "id": "4ZHHZ5-0uTPF"
      },
      "source": [
        "### **Observation:**\n",
        "* We achieve a accuracy, recall, precision,f1_ score of more than 99%. And hence it concludes that we have good generalized model which predict the class almost 100% correct.\n"
      ]
    },
    {
      "cell_type": "markdown",
      "metadata": {
        "id": "Gla1vuFktsBx"
      },
      "source": [
        "## **8. Visualization**\n",
        "In this section we are going to visualize the model's accuracy and loss on train and test dataset with respect to epoches and number of iterations.\n"
      ]
    },
    {
      "cell_type": "code",
      "metadata": {
        "colab": {
          "base_uri": "https://localhost:8080/",
          "height": 412
        },
        "id": "Dhi85y3FnbT3",
        "outputId": "50839f87-1c5c-455d-9d93-81eb52eff774"
      },
      "source": [
        "plt.figure(figsize = (14,6))\n",
        "plt.subplot(1,2,1)\n",
        "plt.plot(history.history['accuracy'])\n",
        "plt.plot(history.history['val_accuracy'])\n",
        "plt.title('CNN Model accuracy', fontsize = 18, fontweight = 'bold')\n",
        "plt.ylabel('Accuracy',fontsize = 14, fontweight = 'bold')\n",
        "plt.xlabel(\"Epoches\",fontsize = 14, fontweight = 'bold')\n",
        "plt.legend(['train', 'test'])\n",
        "\n",
        "\n",
        "# summarize history for loss\n",
        "plt.subplot(1,2,2)\n",
        "plt.plot(history.history['loss'])\n",
        "plt.plot(history.history['val_loss'])\n",
        "plt.title('CNN Model Loss',fontsize = 18, fontweight = 'bold')\n",
        "plt.ylabel('Loss',fontsize = 14, fontweight = 'bold')\n",
        "plt.xlabel('Epoches',fontsize = 14, fontweight = 'bold')\n",
        "plt.legend(['train', 'test'])\n",
        "plt.show()"
      ],
      "execution_count": 215,
      "outputs": [
        {
          "output_type": "display_data",
          "data": {
            "image/png": "[encoded data removed]",
            "text/plain": [
              "<Figure size 1008x432 with 2 Axes>"
            ]
          },
          "metadata": {
            "tags": [],
            "needs_background": "light"
          }
        }
      ]
    },
    {
      "cell_type": "markdown",
      "metadata": {
        "id": "YYaDO9Y8uOR7"
      },
      "source": [
        "# **Thank You!**"
      ]
    }
  ]
}